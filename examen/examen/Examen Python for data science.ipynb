{
 "cells": [
  {
   "cell_type": "code",
   "execution_count": 35,
   "metadata": {},
   "outputs": [],
   "source": [
    "import numpy as np\n",
    "import pandas as pd\n",
    "import seaborn as sns\n",
    "import matplotlib.pyplot as plt\n",
    "import warnings\n",
    "warnings.filterwarnings(\"ignore\")\n",
    "np.random.seed(1000) \n"
   ]
  },
  {
   "cell_type": "markdown",
   "metadata": {},
   "source": [
    "# Loading the data\n",
    "\n",
    " "
   ]
  },
  {
   "cell_type": "markdown",
   "metadata": {},
   "source": [
    "**Questionc1**: Importer les fichiers bike_train et bike_test"
   ]
  },
  {
   "cell_type": "code",
   "execution_count": 12,
   "metadata": {},
   "outputs": [],
   "source": [
    "# Importaion des données(2 lignes)\n",
    "train= None\n",
    "test= None\n",
    "# Créer une copie de chaque jeu de données(2 lignes)\n",
    "train=None\n",
    "test=None"
   ]
  },
  {
   "cell_type": "markdown",
   "metadata": {},
   "source": [
    "**Question 2** Trouvez les valeurs pour:\n",
    "\n",
    "m_train (nombre de lignes du jeu de données train)\n",
    "\n",
    "m_test (nombre de lignes du jeu de données  test)\n",
    "\n",
    "n_train (nombre de variables(colonnes) du jeu de données train)\n",
    "\n",
    "n_test(nombre de variables(colonnes) du jeu de données test)\n"
   ]
  },
  {
   "cell_type": "code",
   "execution_count": 13,
   "metadata": {},
   "outputs": [
    {
     "name": "stdout",
     "output_type": "stream",
     "text": [
      "None None None None\n"
     ]
    }
   ],
   "source": [
    "#Reponse(4 lignes)\n",
    "m_train = None\n",
    "m_test = None\n",
    "n_train = None\n",
    "n_test= None\n",
    "\n",
    "print (m_train, m_test,n_train,n_test)"
   ]
  },
  {
   "cell_type": "markdown",
   "metadata": {},
   "source": [
    "**Question 3**\n",
    "\n",
    "Afficher les 10 premier lignes de train et les 5 dernieres lignes test"
   ]
  },
  {
   "cell_type": "code",
   "execution_count": 14,
   "metadata": {},
   "outputs": [],
   "source": [
    "# Réponse (2 lignes)\n",
    "train_premier=None\n",
    "test_dernier=None"
   ]
  },
  {
   "cell_type": "markdown",
   "metadata": {},
   "source": [
    "**Question 4** \n",
    "\n",
    "Déterminer les statistiques descripives des jeux de données train et test"
   ]
  },
  {
   "cell_type": "code",
   "execution_count": 15,
   "metadata": {},
   "outputs": [],
   "source": [
    "#Réponse \n",
    "train_stat=None\n",
    "test_stat=None"
   ]
  },
  {
   "cell_type": "markdown",
   "metadata": {},
   "source": [
    "**Question 5**\n",
    "\n",
    "Dans le jeu de données train supprimer les variables **'casual','registered'**\n"
   ]
  },
  {
   "cell_type": "code",
   "execution_count": 17,
   "metadata": {},
   "outputs": [],
   "source": [
    "# Réponse (1 lignes)\n",
    "train1= None"
   ]
  },
  {
   "cell_type": "markdown",
   "metadata": {},
   "source": [
    "**Question 6**\n",
    "\n",
    "Concaanner les jeux de données Train1 et test"
   ]
  },
  {
   "cell_type": "code",
   "execution_count": 19,
   "metadata": {},
   "outputs": [],
   "source": [
    "# Réponse (1ligne)\n",
    "data= None"
   ]
  },
  {
   "cell_type": "markdown",
   "metadata": {},
   "source": [
    "**Question 7**\n",
    "\n",
    "Creer un jeu de données nommé **data_discrete** contenant que les variables discrete **'season', 'holiday', 'workingday'et 'weather'**\n",
    "\n",
    "Creer un jeu de données nommé **data_continue** contenant que les variables continues **temp,\tatemp,\thumidity,\twindspeed**\n"
   ]
  },
  {
   "cell_type": "code",
   "execution_count": 24,
   "metadata": {},
   "outputs": [],
   "source": [
    "# Réponse (  2 lignes)\n",
    "data_discrete=None\n",
    "\n",
    "data_continue= None"
   ]
  },
  {
   "cell_type": "markdown",
   "metadata": {},
   "source": [
    "**Question 8**\n",
    "\n",
    "Faites l'histogramme de chacune des variables **'season', 'holiday',\t'workingday'et 'weather'**\n",
    "\n",
    "Pour chaque variable vous utiliserai le graphe convenable"
   ]
  },
  {
   "cell_type": "code",
   "execution_count": null,
   "metadata": {},
   "outputs": [],
   "source": [
    "#Reponse ()completer le code. Pour chaque variable vous utiliserai le graphe convenable\n",
    "# Pour la variable **season**\n",
    "plt.\n",
    "plt.title('')\n",
    "plt.legend()\n",
    "plt.xlabel('')\n",
    "plt.ylabel('')\n",
    "plt.show()"
   ]
  },
  {
   "cell_type": "code",
   "execution_count": null,
   "metadata": {},
   "outputs": [],
   "source": [
    "#Reponse ()completer le code.\n",
    "# Pour la variable **holiday**\n",
    "plt.\n",
    "plt.title('')\n",
    "plt.legend()\n",
    "plt.xlabel('')\n",
    "plt.ylabel('')\n",
    "plt.show()"
   ]
  },
  {
   "cell_type": "code",
   "execution_count": null,
   "metadata": {},
   "outputs": [],
   "source": [
    "#Reponse ()completer le code. \n",
    "# Pour la variable **workingday**\n",
    "plt.\n",
    "plt.title('')\n",
    "plt.legend()\n",
    "plt.xlabel('')\n",
    "plt.ylabel('')\n",
    "plt.show()"
   ]
  },
  {
   "cell_type": "code",
   "execution_count": null,
   "metadata": {},
   "outputs": [],
   "source": [
    "#Reponse ()completer le code. \n",
    "# Pour la variable **weather**\n",
    "plt.\n",
    "plt.title('')\n",
    "plt.legend()\n",
    "plt.xlabel('')\n",
    "plt.ylabel('')\n",
    "plt.show()"
   ]
  },
  {
   "cell_type": "markdown",
   "metadata": {},
   "source": [
    "**Question 9**\n",
    "\n",
    "Visualiser la distribution des variables **atemp\t,humidity\tet windspeed** en utilisant la fonction **boxplot** de la biblioteque **seaborn** de python"
   ]
  },
  {
   "cell_type": "code",
   "execution_count": null,
   "metadata": {},
   "outputs": [],
   "source": [
    "# Reponse: Compleer le code\n",
    "sns.\n",
    "plt.title('')\n",
    "plt.legend()\n",
    "plt.xlabel('')\n",
    "plt.ylabel('')\n",
    "plt.show()\n"
   ]
  },
  {
   "cell_type": "markdown",
   "metadata": {},
   "source": [
    "**Question 10** \n",
    "\n",
    "Divisez la variable **datetime** en 4 variables **heure, jour, mois et année**\n",
    "\n",
    "**Utiliser le jeu de données train**"
   ]
  },
  {
   "cell_type": "code",
   "execution_count": null,
   "metadata": {},
   "outputs": [],
   "source": [
    "#Reponse (5lignes)\n",
    "train[\"hour\"] = None\n",
    "train[\"day\"] = None\n",
    "train[\"month\"] =None\n",
    "train['year'] = None\n",
    "train['year'] =None\n",
    "train.head()"
   ]
  },
  {
   "cell_type": "markdown",
   "metadata": {},
   "source": [
    "**Question 11**\n",
    "\n",
    "En utilisant la fonction **get_dummies** de pandas transformer!\n",
    "\n",
    "la variable **season** en 4 variables  **season_1,\tseason_2,\tseason_3, et season_4**\n",
    "\n",
    "la variable **weather** en 3 variables **weather_1,\tweather_2,\tweather_3 et\tweather_4\n",
    "\n",
    "**Utiliser le jeu de données train**"
   ]
  },
  {
   "cell_type": "code",
   "execution_count": null,
   "metadata": {},
   "outputs": [],
   "source": [
    "#réponse (2 lignes)\n",
    "season= None\n",
    "train=pd.concat([train,season],axis=1)\n",
    "\n",
    "weather= None\n",
    "train=pd.concat([train,weather],axis=1)\n",
    "train.head()\n"
   ]
  },
  {
   "cell_type": "code",
   "execution_count": null,
   "metadata": {},
   "outputs": [],
   "source": [
    "#**Utiliser le jeu de données train**\n",
    "train.drop(['season','weather'],inplace=True,axis=1)\n",
    "train.head()"
   ]
  },
  {
   "cell_type": "markdown",
   "metadata": {},
   "source": [
    "# Modelisation"
   ]
  },
  {
   "cell_type": "markdown",
   "metadata": {},
   "source": [
    "# Description des données est disponibles ici\n",
    "\n",
    "Cet ensemble de données contient des signaux obtenus à partir d'une variété d'angles d'aspect différents, s'étendant sur 90 degrés pour les mines et 180 degrés pour les roches. Chaque échantillon est un ensemble de 60 nombres dans la plage de 0,0 à 1,0, où chaque nombre représente l'énergie dans une bande de fréquences particulière (intégrée sur une certaine période de temps). La cible de sortie contient la lettre R si l'objet est une roche et M si c'est une mine (cylindre métallique)."
   ]
  },
  {
   "cell_type": "code",
   "execution_count": 36,
   "metadata": {},
   "outputs": [],
   "source": [
    "from sklearn.model_selection import train_test_split\n",
    "from sklearn.metrics import confusion_matrix "
   ]
  },
  {
   "cell_type": "code",
   "execution_count": null,
   "metadata": {},
   "outputs": [],
   "source": [
    "# Charger le fichier sonar\n",
    "data= pd.read_csv('')"
   ]
  },
  {
   "cell_type": "code",
   "execution_count": null,
   "metadata": {},
   "outputs": [],
   "source": [
    "X=data.iloc[:,:-1]\n",
    "Y=data['Type']"
   ]
  },
  {
   "cell_type": "markdown",
   "metadata": {},
   "source": [
    "**Question1**\n",
    "\n",
    "En utilisant la fonction train_split de sklearn diviser le jeu de données data en deux parties. une partie **train\n",
    "\n",
    "et une partie **test**  avec un ratio ~ 75% -25%\n"
   ]
  },
  {
   "cell_type": "code",
   "execution_count": null,
   "metadata": {},
   "outputs": [],
   "source": [
    "#reponse( 1 ligne)\n",
    "X_train,X_test,Y_train , Y_test ="
   ]
  },
  {
   "cell_type": "markdown",
   "metadata": {},
   "source": [
    "**Question 2**\n",
    "\n",
    "Dans la variables **type** remplacer respectivement «R» et «M» par 0 et 1.\n",
    "\n",
    "Utiliser la fonction replace()"
   ]
  },
  {
   "cell_type": "code",
   "execution_count": 38,
   "metadata": {},
   "outputs": [],
   "source": [
    "#Réponse ( 1 ligne)\n",
    "train=\n",
    "test="
   ]
  },
  {
   "cell_type": "markdown",
   "metadata": {},
   "source": [
    "# K-Nearest Neighbors "
   ]
  },
  {
   "cell_type": "code",
   "execution_count": 39,
   "metadata": {},
   "outputs": [],
   "source": [
    "from sklearn.neighbors import KNeighborsClassifier"
   ]
  },
  {
   "cell_type": "code",
   "execution_count": null,
   "metadata": {},
   "outputs": [],
   "source": [
    "# init\n",
    "knn = KNeighborsClassifier(algorithm='brute',n_neighbors=7)\n",
    "\n",
    "### Entrainer le model sur le jeu de données train (1 lignz)\n",
    "knn.\n",
    "\n",
    "### tester le model sur le jeu de données test(1 ligne)\n",
    "\n",
    "y_pred=\n",
    "\n",
    "#### Calculer le score du modele  en utilisant knn.score()  (1 ligne)\n",
    "score=\n",
    "print(score)"
   ]
  },
  {
   "cell_type": "markdown",
   "metadata": {},
   "source": [
    "**Question**\n",
    "\n",
    "Le score est il acceptable? Argumenter votre réponse"
   ]
  },
  {
   "cell_type": "markdown",
   "metadata": {},
   "source": [
    "# Decision Tree algorithm"
   ]
  },
  {
   "cell_type": "code",
   "execution_count": null,
   "metadata": {},
   "outputs": [],
   "source": [
    "from sklearn import tree\n",
    "dtr = tree.DecisionTreeClassifier()\n",
    "\n",
    "### Entrainer le model sur le jeu de données train (1 lignz)\n",
    "dtr.\n",
    "\n",
    "### tester le model sur le jeu de données test(1 ligne)\n",
    "\n",
    "y_pred=\n",
    "\n",
    "#### Calculer le score du modele  en utilisant dtr.score()  (1 ligne)\n",
    "score=\n",
    "print(score)\n"
   ]
  },
  {
   "cell_type": "markdown",
   "metadata": {},
   "source": [
    "**Question** \n",
    "\n",
    "Laquelle des deux méthodes est la meilleure? La précision est-elle acceptable? Pourquoi?"
   ]
  },
  {
   "cell_type": "markdown",
   "metadata": {},
   "source": [
    "**BONUS:**\n",
    "Executer le code ci-dessous pour générer un fichier pdf contenant le meilleur arbre.\n",
    "et joindre le fichier pdf obtenue en rendant le devoir"
   ]
  },
  {
   "cell_type": "code",
   "execution_count": null,
   "metadata": {},
   "outputs": [],
   "source": [
    "import pydot\n",
    "from sklearn.externals.six import StringIO\n",
    "\n",
    "dot_data = StringIO()\n",
    "\n",
    "f = tree.export_graphviz(dtr,out_file=dot_data,\n",
    "                         feature_names=data.keys()[:-1],\n",
    "                         class_names=data.Type.replace([0,1],['R','M']),\n",
    "                         filled=True,rounded=True)\n",
    "graph = pydot.graph_from_dot_data(dot_data.getvalue())\n",
    "graph.write_pdf('iris.pdf')"
   ]
  },
  {
   "cell_type": "code",
   "execution_count": null,
   "metadata": {},
   "outputs": [],
   "source": []
  }
 ],
 "metadata": {
  "kernelspec": {
   "display_name": "Python 3",
   "language": "python",
   "name": "python3"
  },
  "language_info": {
   "codemirror_mode": {
    "name": "ipython",
    "version": 3
   },
   "file_extension": ".py",
   "mimetype": "text/x-python",
   "name": "python",
   "nbconvert_exporter": "python",
   "pygments_lexer": "ipython3",
   "version": "3.7.1"
  }
 },
 "nbformat": 4,
 "nbformat_minor": 4
}
