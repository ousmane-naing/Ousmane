{
 "cells": [
  {
   "cell_type": "markdown",
   "metadata": {},
   "source": [
    "<center> <a><img src = \"jupyter.png\" width = 200, align = \"center\"></a> </center>\n",
    "\n",
    "# <center>Prise en main de Jupyter Notebook</center>"
   ]
  },
  {
   "cell_type": "markdown",
   "metadata": {
    "jupyter": {
     "source_hidden": true
    }
   },
   "source": [
    "## Introduction\n",
    "<p>L'une des question que les utilisateurs se demandent quand ils commencent à faire du <strong>Data Science</strong> c'est de savoir quel outil/IDE/Environnement ils doivent utiliser pour réaliser leurs projets. Les outils, il en existe plusieurs ( R studio, Sublime text, Atom etc.) mais s'il y a un outil que chaque Data Scientist devrait utilisé, il s'agit de <strong><font color=\"red\">Jupyter Notebooks</font></strong> (appelé auparavant <strong><font color=\"red\">IPython Notebooks</font></strong>). </p>\n",
    "<p>Les Jupyter Notebooks sont puissants, polyvalents, partageables et permettent de visualiser des données dans un même environnement. Les Jupyter Notebooks permettent aux Data Scientists de créer et de partager leurs documents, allant des codes aux rapports complets. Ils aident les Data Scientists à rationaliser leur travail et permettent plus de productivité et une collaboration facile. A raison de ces arguments et d'autres que nous verrons plus tard, les Jupyter Notebooks sont l'un des outils les plus populaires dans le monde du <strong>Data Science</strong>. </p>\n",
    "\n",
    "## Définition de Jupyter Notebook:\n",
    "<p><strong>Jupyter Notebook</strong> est une application Web open-source qui nous permet de créer et de partager des codes et des documents.\n",
    "\n",
    "Il fournit un environnement dans lequel vous pouvez documenter votre code, l'exécuter, consulter le résultat, visualiser les données et voir les résultats sans quitter l'environnement. Cela en fait un outil pratique pour exécuter des flux de travail de bout en bout en <strong>Data Science</strong>: nettoyage des données, modélisation statistique, création et formation de modèles de machine learning, visualisation de données, et de nombreuses autres utilisations.\n",
    "\n",
    "Les Jupyter Notebooks brillent vraiment lorsque vous êtes encore en phase de prototypage. En effet, votre code est écrit dans des cellules indépendantes, qui sont exécutées individuellement. Cela permet à l'utilisateur de tester un bloc de code spécifique dans un projet sans avoir à exécuter le code à partir du début du script. Ils permettent d'utiliser d'autres langages autres que du python; par exemple R, SQL, etc.</p>\n",
    "\n",
    "## Installation Jupyter Notebook\n",
    "Il y a plusieurs manière d'installer Jupyter avec avant il faut installer <strong> Python</strong>:\n",
    "### Installation utilisant Anaconda et Conda\n",
    "Pour les débutant, nous <strong>recommandons fortement</strong> d'installer <a href=\"https://www.anaconda.com/distribution/\">Anaconda</a>. Anaconda emmène avec lui Python, Jupyter Notebook, et d'autres packages utilisés pour les calculs scientifiques et le <strong>Data Science</strong>.\n",
    "Les étapes de l'installation:\n",
    "* Télécharger <a href=\"https://www.anaconda.com/distribution/\">Anaconda</a>. La version compatible avec Python 3 est la plus recommandée.\n",
    "* Installer la version de Anaconda qui est téléchargé en suivant les instructions sur le site de téléchargement\n",
    "\n",
    "## Prise en main\n",
    "Vu que Jupyter est installé, apprenons à l’utiliser maintenant.\n",
    "Une fois cela fait, Jupyter s'ouvre dans votre navigateur par défaut avec l'URL ci-dessous:\n",
    "<center><em>http://localhost:8888/tree</em></center>\n",
    "\n",
    "Il peut y arriver que Jupyter ne s'ouvre pas directement sur le browser et dans ce cas, il faudra copier-coller le lien accompagné du token retrouvé sur l'invite de commande dans le navigateur. \n",
    "\n",
    "Une fois Jupyter ouvert, nous allons voir l'écran ci-dessous:"
   ]
  },
  {
   "cell_type": "markdown",
   "metadata": {
    "jupyter": {
     "source_hidden": true
    }
   },
   "source": [
    "<a><img src = \"jupyter01.png\" width = 900, align = \"center\"></a>\n",
    "\n",
    "L'onglet <strong>\"Files\"</strong> est l'endroit où tous vos fichiers sont conservés, l'onglet <strong>\"Running\"</strong> garde une trace de tous les processus qui sont entrain de s'exécuter et le troisième onglet, <strong>\"Clusters\"</strong>, est fourni par IPython parallel, la structure de calcul parallèle d'IPython.\n",
    "\n",
    "Pour ouvrir un nouveau notebook, il faut cliquer sur l'onglet <strong>New</strong> situé à <strong>droite</strong> de la page. Une fois cliqué dessus, nous obtenons quatre options comme illustré dans la figure ci-dessous:\n",
    "\n",
    "<a><img src = \"jupyter02.png\" width = 200, align = \"center\"></a>\n",
    "\n",
    "* <strong>Text File</strong> fonctionne comme un éditeur de texte. Nous avons la possibilité de choisir notre langage de sorte que nous puissons écrire des scripts à cet effet. Nous avons également la possibilité de rechercher et de remplacer des mots dans le fichier.\n",
    "\n",
    "* L'option <strong>Folder</strong> comme son nom l'indique permet de créer un dossier dans lequel nous pouvons insérer des documents, de renommer le dossier oubien de le supprimer quel que soit le besoin.\n",
    "\n",
    "* L'option <strong>Terminal</strong> fonctionne exactement comme le terminal de notre ordinateur Mac ou Linux (cmd sous Windows). Il prend en charge les sessions de terminal dans votre navigateur Web. Sur le terminal, nous pouvons taper <strong>python</strong> et là nous pouvons commencer à coder notre script python.\n",
    "\n",
    "* L'option <strong>Python 3</strong> permet de démarrer un nouveau notebook qui est le but meme de ce document. Ci-dessous, nous avons une illustration d'un nouveau notebook:\n",
    "\n",
    "<a><img src = \"jupyter03.png\" width = 1000, align = \"center\"></a>\n",
    "\n",
    "L'interface est très simple, avec une barre de menus et une barre des outils, ainsi qu'une cellule vide, qui constitue l'unité de base du travail avec Jupyter. Dans une cellule, nous pouvons écrire une ou plusieurs lignes de code et l'exécuter. Nous pouvons également écrire du texte brut et supprimer la cellule du flux d’exécution du notebook, etc.\n",
    "Nous remarquons qu’en haut de la page se trouve le mot \"Untitled2\". Ceci est le titre de la page et le nom de notre notebook. Comme ce nom n’est pas très descriptif, changeons-le!\n",
    "\n",
    "Cliquons maintenant sur le titre. Nous devrions maintenant voir une boîte de dialogue dans le navigateur intitulée \"Renommer le Notebook\". Renommons celui-ci en \"Prise en main de Jupyter Notebook\":\n",
    "\n",
    "<a><img src = \"jupyter05.png\" width = 1000, align = \"center\"></a>\n",
    "\n",
    "Les cellules d'un notebook utilise par défaut le <strong>code</strong> lors de leurs créations et chaque cellule utilise le noyau que nous avons choisi au démarrage de notre notebook(<strong>Python 3</strong> pour notre cas). \n",
    "\n",
    "Maintenant, vous pouvons commencer avec Python 3 comme noyau, ce qui signifie que nous pouvons écrire du code Python dans nos cellules de code. Au démarrage, notre notebook initial ne contient qu'une seule cellule vide. Pour vérifier que tout fonctionne comme il se doit, écrivons du code python dans la cellule et l'exécutons. \n",
    "\n",
    "Commençons par un exemple très simple:"
   ]
  },
  {
   "cell_type": "code",
   "execution_count": 1,
   "metadata": {
    "collapsed": true,
    "jupyter": {
     "outputs_hidden": true,
     "source_hidden": true
    }
   },
   "outputs": [
    {
     "name": "stdout",
     "output_type": "stream",
     "text": [
      "Prise en Main de Jupyter\n"
     ]
    }
   ],
   "source": [
    "print(\"Prise en Main de Jupyter\")"
   ]
  },
  {
   "cell_type": "markdown",
   "metadata": {
    "jupyter": {
     "source_hidden": true
    }
   },
   "source": [
    "Pour exécuter une cellule, il faut juste sélectionner la cellule et cliquer sur le bouton <strong>Exécuter</strong> situé dans la rangée de boutons en haut oubien appuyer sur **Shift + Enter**.\n",
    "\n",
    "<a><img src = \"jupyter06.png\" width = 200, align = \"center\"></a>\n",
    "\n",
    "Pour savoir si une cellule a été exécutée, ou est en cours exécution ou bien l'exécution est terminée, nous remarquerons qu'il existe des crochets à côté du mot **Entrée** situé à gauche de la cellule.\n",
    "\n",
    "* Si seul **Entrée []** apparaît , cela signifie qu'il n'a pas encore été exécuté.\n",
    "* Si ce que nous avons est **Entrée [\\*]** , alors c'est dans le processus d'exécution.\n",
    "* Si un nombre apparaît entre crochets, vous avez terminé l'exécution.\n",
    "\n",
    "Si nous exécutons le code ci-dessus, nous obtenons le résultat juste après.\n",
    "\n",
    "Si nous avez plusieurs cellules dans votre notebook et que vous les exécutez dans l'ordre, vous pouvez partager vos variables et vos importations dans toutes les cellules. Cela facilite la séparation de votre code en blocs logiques sans avoir à réimporter des bibliothèques ou à recréer des variables ou des fonctions dans chaque cellule.\n",
    "\n",
    "## Les menus\n",
    "\n",
    "Le notebook sur Jupyter comporte plusieurs **menus** qu'on peut utiliser pour interagir avec notre notebook. Le menu se trouve en haut du notebook, exactement comme les menus des autres applications. Voici une liste des menus actuels:\n",
    "\n",
    "* File\n",
    "* Edit\n",
    "* View\n",
    "* Insert\n",
    "* Cell\n",
    "* Kernel\n",
    "* Widgets\n",
    "* Help\n",
    "\n",
    "Essayons d'explorer les menus un à un:\n",
    "Le premier menu est le menu **File**. On peut y créer un nouveau notebook ou en ouvrir un déjà existant. C'est également à cet endroit qu'on peut renommer un notebook. On y retrouve aussi l'option **Save and Checkpoint** qui constitue l'un des options les plus importants de ce menu. Cet option nous permet de créer des points de contrôle sur lesquels nous pouvons revenir en cas de besoin.\n",
    "\n",
    "Vient ensuite le menu **Edit**. Ici, on peut couper, copier et coller des cellules. C’est également là que nous irions si nous voulions supprimer, scinder ou fusionner une cellule. On peut également réorganiser les cellules ici.\n",
    "Notons que certains des éléments de ce menu sont grisés. La raison en est qu'ils ne s'appliquent pas à la cellule actuellement sélectionnée.\n",
    "\n",
    "Le menu **View** est utile pour basculer la visibilité de l'en-tête et de la barre d'outils. Nous pouvons également activer ou désactiver les numéros de ligne dans les cellules.\n",
    "\n",
    "Le menu **Insert** sert uniquement à insérer des cellules situées au-dessus ou en dessous de la cellule actuellement sélectionnée.\n",
    "\n",
    "Le menu **Cell** permet d'exécuter une cellule, un groupe de cellules ou toutes les cellules. Sur ce menu, on peut changer également  le type d’une cellule.\n",
    "L’autre fonctionnalité utile de ce menu est la possibilité d’effacer la sortie d’une cellule. Si on envisage de partager notre notebook avec d'autres personnes, on veux probablement effacer d'abord la sortie afin que la personne suivante puisse exécuter les cellules elles-mêmes.\n",
    "\n",
    "Le menu **Kernel** permet de travailler avec le noyau qui s'exécute en arrière-plan. Avec ce menu, on peut redémarrer le noyau, s'y reconnecter, le fermer ou même changer le noyau utilisé par notre notebook.\n",
    "\n",
    "Le menu **Widgets** sert à enregistrer et à effacer l'état du widget. Les widgets sont essentiellement des widgets JavaScript que nous pouvons ajouter à nos cellules pour créer du contenu dynamique à l'aide de Python (ou d'un autre noyau).\n",
    "\n",
    "Enfin, le menu **Help**, qui permet de se familiariser avec les raccourcis clavier du notebook, une visite de l’interface utilisateur et de nombreux documents de référence."
   ]
  },
  {
   "cell_type": "markdown",
   "metadata": {
    "jupyter": {
     "source_hidden": true
    }
   },
   "source": [
    "## Ajout de contenu\n",
    "\n",
    "\n",
    "### Types de cellules\n",
    "Il existe quatre types de cellules: Code, Markdown, Text brut( pour NBConvert), and Titre.\n",
    "\n",
    "Le contenu de la cellule de type **Code** est traité comme une instruction dans un langage de programmation du noyau actuel. Le noyau par défaut est Python. Nous pouvons donc écrire des instructions Python dans une cellule de code. Lorsque cette cellule est exécutée, son résultat est affiché dans une cellule de sortie. Le résultat peut être du texte, des images, des graphiques matplotlib ou des tableaux HTML.\n",
    "\n",
    "Les cellules de type **Markdown** contiennent du texte mis en forme à l'aide du langage markdown. Toutes sortes de fonctions de formatage sont disponibles, telles que mettre du texte en *gras* et en *italique*, afficher des *listes ordonnées ou non*, afficher des contenus *sous forme de tableaux*, etc. Les cellules de Markdown sont particulièrement utiles pour fournir une documentation au processus de calcul du notebook.\n",
    "\n",
    "Le type de cellule **Titre** n'est plus pris en charge et affiche une boîte de dialogue qui en dit autant. Au lieu d'utiliser ce type, on est censé utiliser **Markdown** pour nos en-têtes.\n",
    "\n",
    "De façon basique, le type **Text brut** permet de contrôler le formatage de manière très spécifique lors de la conversion d'un notebook en un autre format.\n",
    "\n",
    "\n",
    "### Mise en forme de notre texte\n",
    "Jupyter Notebook prend en charge Markdown, un langage de balisage qui est un sur-ensemble de HTML. Ce tutoriel couvrira les bases de ce que vous pouvez faire avec Markdown.\n",
    "\n",
    "Définissons une nouvelle cellule avec le type Markdown, puis ajoutez le texte suivant à la cellule:\n",
    "\n",
    "<a><img src = \"jupyter07.png\" width = 1000, align = \"center\"></a>\n",
    "\n",
    "Après exécution, la sortie ressemble à l'image ci-dessous:\n",
    "\n",
    "<a><img src = \"jupyter08.png\" width = 1000, align = \"center\"></a>\n",
    "\n",
    "L'exemple montre que si on veut mettre notre texte en italique, on met un underscore ou un astérisques et si on veut mettre le texte en gras, on met deux underscore ou deux astérisques\n",
    "\n",
    "### En-têtes\n",
    "Créer des en-têtes dans Markdown est également assez simple. Vous devez juste utiliser le **signe dièse(#)**. Plus vous utilisez de signes dièse, plus l'en-tête est petit.\n",
    "\n",
    "<a><img src = \"jupyter09.png\" width = 1000, align = \"center\"></a>\n",
    "\n",
    "Après exécution, la sortie ressemble à l'image ci-dessous:\n",
    "\n",
    "<a><img src = \"jupyter010.png\" width = 1000, align = \"center\"></a>\n",
    "\n",
    "### Créer des Listes\n",
    "On peut créer une liste en utilisant des **tirets**, des signes **plus(+)**, ou des **astérisques**.\n",
    "\n",
    "<a><img src = \"jupyter011.png\" width = 1000, align = \"center\"></a>\n",
    "\n",
    "Et la sortie ressemble à ça:\n",
    "\n",
    "<a><img src = \"jupyter012.png\" width = 1000, align = \"center\"></a>\n",
    "\n",
    "### Mise en évidence du code et de la syntaxe\n",
    "Si vous souhaitez insérer un exemple de code que vous ne voulez pas que l'utilisateur final exécute, vous pouvez utiliser Markdown pour l'insérer. Pour la mise en surbrillance du code en ligne, entourez simplement le code de backticks. Si vous souhaitez insérer un bloc de code, vous pouvez utiliser des triple backticks et également spécifier le langage de programmation:\n",
    "\n",
    "<a><img src = \"jupyter013.png\" width = 1000, align = \"center\"></a>\n",
    "\n",
    "Ci-dessous la sortie:\n",
    "\n",
    "<a><img src = \"jupyter014.png\" width = 1000, align = \"center\"></a>"
   ]
  },
  {
   "cell_type": "markdown",
   "metadata": {
    "jupyter": {
     "source_hidden": true
    }
   },
   "source": [
    "## Les commande magiques de notebook\n",
    "\n",
    "Il existe des fonctions magiques prédéfinies sur Jupyter qui nous simplifient la vie et rendent notre travail beaucoup plus interactif. Nous pouvons exécuter la commande ci-dessous pour voir une liste de ces fonctions:\n",
    "\n",
    "<a><img src = \"jupyter015.png\" width = 1000, align = \"center\"></a>\n",
    "\n",
    "La sortie affiche beaucoup d'options, il y a meme certaines qui sont familières(%clear, %mkdir par exemple).\n",
    "La command magique **%matplotlib inline** est l'une des commandes magiques quand on fait de l'analyse de données. Elle permet d'avoir toutes les graphiques dans la meme fenetre du notebook.\n",
    "Il y a d'autres commandes aussi comme:\n",
    "* **%whos** permettant d'afficher tous les objets(variables, fonctions, etc.) utilisés dans le notebook\n",
    "\n",
    "<a><img src = \"jupyter016.png\" width = 1000, align = \"center\"></a>\n",
    "\n",
    "* **%history** permet d'afficher l'historique des commandes\n",
    "\n",
    "<a><img src = \"jupyter017.png\" width = 1000, align = \"center\"></a>\n",
    "\n",
    "* Etc.\n",
    "\n",
    "Sur notre notebook, nous avons la possibilité d'exécuter des commandes Linux en les précédent du signe **\"!\"**. Comme par exemple ci-dessous listons les packages qui sont installés sur python.\n",
    "\n",
    "<a><img src = \"jupyter018.png\" width = 1000, align = \"center\"></a>"
   ]
  },
  {
   "cell_type": "markdown",
   "metadata": {
    "jupyter": {
     "source_hidden": true
    }
   },
   "source": [
    "## Graphiques dans notebook\n",
    "\n",
    "Dans le processus d'analyse de données, on est souvent appelé à faire des graphiques. Et Jupyter notebook nous donne la possibilté d'incorporer des graphiques dans notre notebook en utilisant des bibliothèques comme *matplotlib*, *seaborn*, *bokeh*, etc. Ci-dessous, on voit l'exemple d'un graphique réalisé avec *matplotlib*\n",
    "\n",
    "<a><img src = \"jupyter019.png\" width = 1000, align = \"center\"></a>\n",
    "\n",
    "<a><img src = \"jupyter020.png\" width = 1000, align = \"center\"></a>"
   ]
  },
  {
   "cell_type": "markdown",
   "metadata": {
    "jupyter": {
     "source_hidden": true
    }
   },
   "source": [
    "## Enrégistrer et Partager notre notebook\n",
    "\n",
    "C'est l'une des fonctionnalités les plus importantes et les plus impressionnantes d'un notebook sur Jupyter. Lorsque je dois publier un blog et que mon code et mes commentaires sont dans un fichier Jupyter, je dois d'abord les convertir dans un autre format. Pour cela, je peux y aller sur *File-->Download as* avant de choisir notre format de base. \n"
   ]
  },
  {
   "cell_type": "code",
   "execution_count": null,
   "metadata": {},
   "outputs": [],
   "source": []
  }
 ],
 "metadata": {
  "kernelspec": {
   "display_name": "Python 3",
   "language": "python",
   "name": "python3"
  },
  "language_info": {
   "codemirror_mode": {
    "name": "ipython",
    "version": 3
   },
   "file_extension": ".py",
   "mimetype": "text/x-python",
   "name": "python",
   "nbconvert_exporter": "python",
   "pygments_lexer": "ipython3",
   "version": "3.7.1"
  }
 },
 "nbformat": 4,
 "nbformat_minor": 4
}
