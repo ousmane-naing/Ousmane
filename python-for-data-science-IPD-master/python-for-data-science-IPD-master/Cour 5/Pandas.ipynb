{
 "cells": [
  {
   "cell_type": "markdown",
   "metadata": {},
   "source": [
    "# Introduction\n",
    "\n",
    "Pandas est une librairie python qui permet de manipuler facilement des données à analyser :\n",
    "\n",
    "+ manipuler des tableaux de données avec des étiquettes de variables (colonnes) et d'individus (lignes).\n",
    "+ ces tableaux sont appelés DataFrames, similaires aux dataframes sous R.\n",
    "+ on peut facilement lire et écrire ces dataframes à partir ou vers un fichier tabulé.\n",
    "+ on peut faciler tracer des graphes à partir de ces DataFrames grâce à matplotlib."
   ]
  },
  {
   "cell_type": "markdown",
   "metadata": {},
   "source": [
    "# Séries\n",
    "\n",
    "Les séries sur **Pandas** sont des tableaux étiquetés unidimensionnel capable de contenir des données de tout type (entier, string, float, objects, etc.). Les étiquettes sont appelées le plus souvent index. Nous pouvons voir une série comme une colonne sur une feuille Excel."
   ]
  },
  {
   "cell_type": "markdown",
   "metadata": {},
   "source": [
    "Avant tout d'abord, il faut commencé par importer **pandas**"
   ]
  },
  {
   "cell_type": "code",
   "execution_count": 5,
   "metadata": {},
   "outputs": [],
   "source": [
    "import pandas as pd\n",
    "pd.Series?"
   ]
  },
  {
   "cell_type": "markdown",
   "metadata": {},
   "source": [
    "## Création d'une séries\n",
    "\n",
    "Les Séries sur **pandas** peuvent etre créer à partir d'une liste, d'un tableau, d'un dictionnaire, d'un scalaire, etc."
   ]
  },
  {
   "cell_type": "markdown",
   "metadata": {},
   "source": [
    "### Création d'une série à partir d'une liste"
   ]
  },
  {
   "cell_type": "code",
   "execution_count": 6,
   "metadata": {},
   "outputs": [
    {
     "data": {
      "text/plain": [
       "0       Ngor\n",
       "1    Niokhor\n",
       "2      Dibor\n",
       "dtype: object"
      ]
     },
     "execution_count": 6,
     "metadata": {},
     "output_type": "execute_result"
    }
   ],
   "source": [
    "etudiants = ['Ngor', 'Niokhor', 'Dibor']\n",
    "pd.Series(etudiants)"
   ]
  },
  {
   "cell_type": "code",
   "execution_count": 7,
   "metadata": {},
   "outputs": [
    {
     "data": {
      "text/plain": [
       "0    1\n",
       "1    2\n",
       "2    3\n",
       "3    5\n",
       "dtype: int64"
      ]
     },
     "execution_count": 7,
     "metadata": {},
     "output_type": "execute_result"
    }
   ],
   "source": [
    "nombres = [1, 2, 3,5]\n",
    "pd.Series(nombres)"
   ]
  },
  {
   "cell_type": "code",
   "execution_count": 8,
   "metadata": {},
   "outputs": [
    {
     "data": {
      "text/plain": [
       "0       Ngor\n",
       "1    Niokhor\n",
       "2       None\n",
       "dtype: object"
      ]
     },
     "execution_count": 8,
     "metadata": {},
     "output_type": "execute_result"
    }
   ],
   "source": [
    "etudiants = ['Ngor', 'Niokhor', None]\n",
    "pd.Series(etudiants)"
   ]
  },
  {
   "cell_type": "code",
   "execution_count": 9,
   "metadata": {},
   "outputs": [
    {
     "data": {
      "text/plain": [
       "0    1.0\n",
       "1    2.0\n",
       "2    NaN\n",
       "dtype: float64"
      ]
     },
     "execution_count": 9,
     "metadata": {},
     "output_type": "execute_result"
    }
   ],
   "source": [
    "nombres = [1, 2, None]\n",
    "pd.Series(nombres)"
   ]
  },
  {
   "cell_type": "markdown",
   "metadata": {},
   "source": [
    "### Création d'une série à partir d'un tableau numpy"
   ]
  },
  {
   "cell_type": "code",
   "execution_count": 10,
   "metadata": {},
   "outputs": [],
   "source": [
    "import numpy as np\n",
    "\n",
    "etudiants = np.array(['Ngor','Niokhor','Dibor','Gnilane'])\n"
   ]
  },
  {
   "cell_type": "code",
   "execution_count": 11,
   "metadata": {},
   "outputs": [
    {
     "data": {
      "text/plain": [
       "array(['Ngor', 'Niokhor', 'Dibor', 'Gnilane'], dtype='<U7')"
      ]
     },
     "execution_count": 11,
     "metadata": {},
     "output_type": "execute_result"
    }
   ],
   "source": [
    "etudiants"
   ]
  },
  {
   "cell_type": "code",
   "execution_count": 12,
   "metadata": {},
   "outputs": [
    {
     "name": "stdout",
     "output_type": "stream",
     "text": [
      "0       Ngor\n",
      "1    Niokhor\n",
      "2      Dibor\n",
      "3    Gnilane\n",
      "dtype: object\n"
     ]
    }
   ],
   "source": [
    "ser = pd.Series(etudiants)\n",
    "print(ser)"
   ]
  },
  {
   "cell_type": "markdown",
   "metadata": {},
   "source": [
    "### Création d'une série à partir d'un dictionnaire"
   ]
  },
  {
   "cell_type": "code",
   "execution_count": 13,
   "metadata": {},
   "outputs": [],
   "source": [
    "sports = {'Tir à l\\'arc': 'Bhutan',\n",
    "          'Golf': 'Ecosse',\n",
    "          'Sumo': 'Japon',\n",
    "          'Taekwondo': 'Corée du Sud'}\n",
    "s = pd.Series(sports)"
   ]
  },
  {
   "cell_type": "code",
   "execution_count": 14,
   "metadata": {},
   "outputs": [
    {
     "data": {
      "text/plain": [
       "Index(['Tir à l'arc', 'Golf', 'Sumo', 'Taekwondo'], dtype='object')"
      ]
     },
     "execution_count": 14,
     "metadata": {},
     "output_type": "execute_result"
    }
   ],
   "source": [
    "s.index"
   ]
  },
  {
   "cell_type": "code",
   "execution_count": 15,
   "metadata": {},
   "outputs": [
    {
     "data": {
      "text/plain": [
       "array(['Bhutan', 'Ecosse', 'Japon', 'Corée du Sud'], dtype=object)"
      ]
     },
     "execution_count": 15,
     "metadata": {},
     "output_type": "execute_result"
    }
   ],
   "source": [
    "s.values"
   ]
  },
  {
   "cell_type": "markdown",
   "metadata": {},
   "source": [
    "Afficher les indexes"
   ]
  },
  {
   "cell_type": "code",
   "execution_count": 16,
   "metadata": {},
   "outputs": [
    {
     "data": {
      "text/plain": [
       "Index(['Tir à l'arc', 'Golf', 'Sumo', 'Taekwondo'], dtype='object')"
      ]
     },
     "execution_count": 16,
     "metadata": {},
     "output_type": "execute_result"
    }
   ],
   "source": [
    "s.index"
   ]
  },
  {
   "cell_type": "code",
   "execution_count": 17,
   "metadata": {},
   "outputs": [],
   "source": [
    "pd.Series?"
   ]
  },
  {
   "cell_type": "markdown",
   "metadata": {},
   "source": [
    "Afficher les valeurs"
   ]
  },
  {
   "cell_type": "code",
   "execution_count": 18,
   "metadata": {},
   "outputs": [
    {
     "data": {
      "text/plain": [
       "array(['Bhutan', 'Ecosse', 'Japon', 'Corée du Sud'], dtype=object)"
      ]
     },
     "execution_count": 18,
     "metadata": {},
     "output_type": "execute_result"
    }
   ],
   "source": [
    "s.values"
   ]
  },
  {
   "cell_type": "markdown",
   "metadata": {},
   "source": [
    "L'index peut etre défini au moment de la création"
   ]
  },
  {
   "cell_type": "code",
   "execution_count": 19,
   "metadata": {},
   "outputs": [
    {
     "data": {
      "text/plain": [
       "India      Tiger\n",
       "America     Bear\n",
       "Canada     Moose\n",
       "dtype: object"
      ]
     },
     "execution_count": 19,
     "metadata": {},
     "output_type": "execute_result"
    }
   ],
   "source": [
    "s = pd.Series(['Tiger', 'Bear', 'Moose'], index=['India', 'America', 'Canada'])\n",
    "s"
   ]
  },
  {
   "cell_type": "code",
   "execution_count": 20,
   "metadata": {},
   "outputs": [],
   "source": [
    "sports = {'Tir à l\\'arc': 'Bhutan',\n",
    "          'Golf': 'Ecosse',\n",
    "          'Sumo': 'Japon',\n",
    "          'Taekwondo': 'Corée du Sud'}\n",
    "s = pd.Series(sports, index=['Golf', 'Sumo', 'Hockey'])"
   ]
  },
  {
   "cell_type": "code",
   "execution_count": 21,
   "metadata": {},
   "outputs": [
    {
     "data": {
      "text/plain": [
       "Golf      Ecosse\n",
       "Sumo       Japon\n",
       "Hockey       NaN\n",
       "dtype: object"
      ]
     },
     "execution_count": 21,
     "metadata": {},
     "output_type": "execute_result"
    }
   ],
   "source": [
    "s"
   ]
  },
  {
   "cell_type": "markdown",
   "metadata": {},
   "source": [
    "# DataFrame\n",
    "\n",
    "Les Dataframes sont des tableaux à deux dimensions, avec des variables en colonnes et des observations en ligne. Les colonnes et lignes des dataframes sont indexées."
   ]
  },
  {
   "cell_type": "markdown",
   "metadata": {},
   "source": [
    "### Création de dataframes à partir d’un dictionnaire"
   ]
  },
  {
   "cell_type": "markdown",
   "metadata": {},
   "source": [
    "Pour créer un dataframe, on peut fournir à la fonction DataFrame() de pandas un dictionnaire pouvant être transformé en serie. C’est le cas d’un dictionnaire dont les valeurs associées aux clés ont toutes la même longueur :"
   ]
  },
  {
   "cell_type": "code",
   "execution_count": 22,
   "metadata": {},
   "outputs": [],
   "source": [
    "dico = {\"height\" : \n",
    "               [58, 59, 60, 61, 62,\n",
    "                63, 64, 65, 66, 67,\n",
    "                68, 69, 70, 71, 72],\n",
    "        \"weight\": \n",
    "               [115, 117, 120, 123, 126,\n",
    "                129, 132, 135, 139, 142,\n",
    "                146, 150, 154, 159, 164]\n",
    "       } "
   ]
  },
  {
   "cell_type": "code",
   "execution_count": 23,
   "metadata": {},
   "outputs": [
    {
     "data": {
      "text/plain": [
       "{'height': [58, 59, 60, 61, 62, 63, 64, 65, 66, 67, 68, 69, 70, 71, 72],\n",
       " 'weight': [115,\n",
       "  117,\n",
       "  120,\n",
       "  123,\n",
       "  126,\n",
       "  129,\n",
       "  132,\n",
       "  135,\n",
       "  139,\n",
       "  142,\n",
       "  146,\n",
       "  150,\n",
       "  154,\n",
       "  159,\n",
       "  164]}"
      ]
     },
     "execution_count": 23,
     "metadata": {},
     "output_type": "execute_result"
    }
   ],
   "source": [
    "dico"
   ]
  },
  {
   "cell_type": "code",
   "execution_count": 24,
   "metadata": {},
   "outputs": [
    {
     "data": {
      "text/html": [
       "<div>\n",
       "<style scoped>\n",
       "    .dataframe tbody tr th:only-of-type {\n",
       "        vertical-align: middle;\n",
       "    }\n",
       "\n",
       "    .dataframe tbody tr th {\n",
       "        vertical-align: top;\n",
       "    }\n",
       "\n",
       "    .dataframe thead th {\n",
       "        text-align: right;\n",
       "    }\n",
       "</style>\n",
       "<table border=\"1\" class=\"dataframe\">\n",
       "  <thead>\n",
       "    <tr style=\"text-align: right;\">\n",
       "      <th></th>\n",
       "      <th>height</th>\n",
       "      <th>weight</th>\n",
       "    </tr>\n",
       "  </thead>\n",
       "  <tbody>\n",
       "    <tr>\n",
       "      <td>0</td>\n",
       "      <td>58</td>\n",
       "      <td>115</td>\n",
       "    </tr>\n",
       "    <tr>\n",
       "      <td>1</td>\n",
       "      <td>59</td>\n",
       "      <td>117</td>\n",
       "    </tr>\n",
       "    <tr>\n",
       "      <td>2</td>\n",
       "      <td>60</td>\n",
       "      <td>120</td>\n",
       "    </tr>\n",
       "    <tr>\n",
       "      <td>3</td>\n",
       "      <td>61</td>\n",
       "      <td>123</td>\n",
       "    </tr>\n",
       "    <tr>\n",
       "      <td>4</td>\n",
       "      <td>62</td>\n",
       "      <td>126</td>\n",
       "    </tr>\n",
       "    <tr>\n",
       "      <td>5</td>\n",
       "      <td>63</td>\n",
       "      <td>129</td>\n",
       "    </tr>\n",
       "    <tr>\n",
       "      <td>6</td>\n",
       "      <td>64</td>\n",
       "      <td>132</td>\n",
       "    </tr>\n",
       "    <tr>\n",
       "      <td>7</td>\n",
       "      <td>65</td>\n",
       "      <td>135</td>\n",
       "    </tr>\n",
       "    <tr>\n",
       "      <td>8</td>\n",
       "      <td>66</td>\n",
       "      <td>139</td>\n",
       "    </tr>\n",
       "    <tr>\n",
       "      <td>9</td>\n",
       "      <td>67</td>\n",
       "      <td>142</td>\n",
       "    </tr>\n",
       "    <tr>\n",
       "      <td>10</td>\n",
       "      <td>68</td>\n",
       "      <td>146</td>\n",
       "    </tr>\n",
       "    <tr>\n",
       "      <td>11</td>\n",
       "      <td>69</td>\n",
       "      <td>150</td>\n",
       "    </tr>\n",
       "    <tr>\n",
       "      <td>12</td>\n",
       "      <td>70</td>\n",
       "      <td>154</td>\n",
       "    </tr>\n",
       "    <tr>\n",
       "      <td>13</td>\n",
       "      <td>71</td>\n",
       "      <td>159</td>\n",
       "    </tr>\n",
       "    <tr>\n",
       "      <td>14</td>\n",
       "      <td>72</td>\n",
       "      <td>164</td>\n",
       "    </tr>\n",
       "  </tbody>\n",
       "</table>\n",
       "</div>"
      ],
      "text/plain": [
       "    height  weight\n",
       "0       58     115\n",
       "1       59     117\n",
       "2       60     120\n",
       "3       61     123\n",
       "4       62     126\n",
       "5       63     129\n",
       "6       64     132\n",
       "7       65     135\n",
       "8       66     139\n",
       "9       67     142\n",
       "10      68     146\n",
       "11      69     150\n",
       "12      70     154\n",
       "13      71     159\n",
       "14      72     164"
      ]
     },
     "execution_count": 24,
     "metadata": {},
     "output_type": "execute_result"
    }
   ],
   "source": [
    "df = pd.DataFrame(dico)\n",
    "df"
   ]
  },
  {
   "cell_type": "markdown",
   "metadata": {},
   "source": [
    "Afficher les colonnes "
   ]
  },
  {
   "cell_type": "code",
   "execution_count": 25,
   "metadata": {},
   "outputs": [
    {
     "data": {
      "text/plain": [
       "Index(['height', 'weight'], dtype='object')"
      ]
     },
     "execution_count": 25,
     "metadata": {},
     "output_type": "execute_result"
    }
   ],
   "source": [
    "df.columns"
   ]
  },
  {
   "cell_type": "markdown",
   "metadata": {},
   "source": [
    "### head() et tail()"
   ]
  },
  {
   "cell_type": "markdown",
   "metadata": {},
   "source": [
    "Les méthodes head() et tail() permettent d’afficher les premières lignes (les 5 premières, par défaut) ou les dernières lignes (les 5 dernières, par défaut). On peut ajouter le paramètre **n** pour afficher **n** lignes"
   ]
  },
  {
   "cell_type": "code",
   "execution_count": 26,
   "metadata": {},
   "outputs": [
    {
     "data": {
      "text/html": [
       "<div>\n",
       "<style scoped>\n",
       "    .dataframe tbody tr th:only-of-type {\n",
       "        vertical-align: middle;\n",
       "    }\n",
       "\n",
       "    .dataframe tbody tr th {\n",
       "        vertical-align: top;\n",
       "    }\n",
       "\n",
       "    .dataframe thead th {\n",
       "        text-align: right;\n",
       "    }\n",
       "</style>\n",
       "<table border=\"1\" class=\"dataframe\">\n",
       "  <thead>\n",
       "    <tr style=\"text-align: right;\">\n",
       "      <th></th>\n",
       "      <th>height</th>\n",
       "      <th>weight</th>\n",
       "    </tr>\n",
       "  </thead>\n",
       "  <tbody>\n",
       "    <tr>\n",
       "      <td>0</td>\n",
       "      <td>58</td>\n",
       "      <td>115</td>\n",
       "    </tr>\n",
       "    <tr>\n",
       "      <td>1</td>\n",
       "      <td>59</td>\n",
       "      <td>117</td>\n",
       "    </tr>\n",
       "    <tr>\n",
       "      <td>2</td>\n",
       "      <td>60</td>\n",
       "      <td>120</td>\n",
       "    </tr>\n",
       "    <tr>\n",
       "      <td>3</td>\n",
       "      <td>61</td>\n",
       "      <td>123</td>\n",
       "    </tr>\n",
       "    <tr>\n",
       "      <td>4</td>\n",
       "      <td>62</td>\n",
       "      <td>126</td>\n",
       "    </tr>\n",
       "  </tbody>\n",
       "</table>\n",
       "</div>"
      ],
      "text/plain": [
       "   height  weight\n",
       "0      58     115\n",
       "1      59     117\n",
       "2      60     120\n",
       "3      61     123\n",
       "4      62     126"
      ]
     },
     "execution_count": 26,
     "metadata": {},
     "output_type": "execute_result"
    }
   ],
   "source": [
    "#Afficher les 5 premières lignes\n",
    "df.head()"
   ]
  },
  {
   "cell_type": "code",
   "execution_count": 27,
   "metadata": {},
   "outputs": [
    {
     "data": {
      "text/html": [
       "<div>\n",
       "<style scoped>\n",
       "    .dataframe tbody tr th:only-of-type {\n",
       "        vertical-align: middle;\n",
       "    }\n",
       "\n",
       "    .dataframe tbody tr th {\n",
       "        vertical-align: top;\n",
       "    }\n",
       "\n",
       "    .dataframe thead th {\n",
       "        text-align: right;\n",
       "    }\n",
       "</style>\n",
       "<table border=\"1\" class=\"dataframe\">\n",
       "  <thead>\n",
       "    <tr style=\"text-align: right;\">\n",
       "      <th></th>\n",
       "      <th>height</th>\n",
       "      <th>weight</th>\n",
       "    </tr>\n",
       "  </thead>\n",
       "  <tbody>\n",
       "    <tr>\n",
       "      <td>10</td>\n",
       "      <td>68</td>\n",
       "      <td>146</td>\n",
       "    </tr>\n",
       "    <tr>\n",
       "      <td>11</td>\n",
       "      <td>69</td>\n",
       "      <td>150</td>\n",
       "    </tr>\n",
       "    <tr>\n",
       "      <td>12</td>\n",
       "      <td>70</td>\n",
       "      <td>154</td>\n",
       "    </tr>\n",
       "    <tr>\n",
       "      <td>13</td>\n",
       "      <td>71</td>\n",
       "      <td>159</td>\n",
       "    </tr>\n",
       "    <tr>\n",
       "      <td>14</td>\n",
       "      <td>72</td>\n",
       "      <td>164</td>\n",
       "    </tr>\n",
       "  </tbody>\n",
       "</table>\n",
       "</div>"
      ],
      "text/plain": [
       "    height  weight\n",
       "10      68     146\n",
       "11      69     150\n",
       "12      70     154\n",
       "13      71     159\n",
       "14      72     164"
      ]
     },
     "execution_count": 27,
     "metadata": {},
     "output_type": "execute_result"
    }
   ],
   "source": [
    "#Afficher les 5 premières lignes\n",
    "df.tail()"
   ]
  },
  {
   "cell_type": "markdown",
   "metadata": {},
   "source": [
    "Lors de la création d'un **DataFrame**, on peut indiquer les colonnes en paramètre ou bien définir l'ordre d'apparition des colonnes"
   ]
  },
  {
   "cell_type": "code",
   "execution_count": 28,
   "metadata": {},
   "outputs": [],
   "source": [
    "pd.DataFrame?"
   ]
  },
  {
   "cell_type": "code",
   "execution_count": 29,
   "metadata": {},
   "outputs": [
    {
     "name": "stdout",
     "output_type": "stream",
     "text": [
      "   weight  height\n",
      "0     115      58\n",
      "1     117      59\n"
     ]
    }
   ],
   "source": [
    "df = pd.DataFrame(dico, columns = [\"weight\", \"height\"])\n",
    "print(df.head(2))"
   ]
  },
  {
   "cell_type": "code",
   "execution_count": 30,
   "metadata": {},
   "outputs": [
    {
     "name": "stdout",
     "output_type": "stream",
     "text": [
      "   weight\n",
      "0     115\n",
      "1     117\n"
     ]
    }
   ],
   "source": [
    "df = pd.DataFrame(dico, columns = [\"weight\"])\n",
    "print(df.head(2))"
   ]
  },
  {
   "cell_type": "markdown",
   "metadata": {},
   "source": [
    "**NB:** Si on indique un nom de colonne absent parmi les clés du dictionnaires, le dataframe résultant contiendra une colonne portant ce nom mais remplie de valeurs NaN"
   ]
  },
  {
   "cell_type": "code",
   "execution_count": 31,
   "metadata": {},
   "outputs": [
    {
     "name": "stdout",
     "output_type": "stream",
     "text": [
      "   weight  height  age\n",
      "0     115      58  NaN\n",
      "1     117      59  NaN\n"
     ]
    }
   ],
   "source": [
    "df = pd.DataFrame(dico, columns = [\"weight\", \"height\", \"age\"])\n",
    "print(df.head(2))"
   ]
  },
  {
   "cell_type": "markdown",
   "metadata": {},
   "source": [
    "### Création de dataframes à partir d’une série"
   ]
  },
  {
   "cell_type": "code",
   "execution_count": 32,
   "metadata": {},
   "outputs": [],
   "source": [
    "s = pd.Series([1, 4, -1, np.nan], index = [\"o\", \"d\", \"i\", \"l\"])\n",
    "s.name = \"nom_variable\""
   ]
  },
  {
   "cell_type": "code",
   "execution_count": 33,
   "metadata": {},
   "outputs": [
    {
     "data": {
      "text/plain": [
       "o    1.0\n",
       "d    4.0\n",
       "i   -1.0\n",
       "l    NaN\n",
       "Name: nom_variable, dtype: float64"
      ]
     },
     "execution_count": 33,
     "metadata": {},
     "output_type": "execute_result"
    }
   ],
   "source": [
    "s"
   ]
  },
  {
   "cell_type": "code",
   "execution_count": 34,
   "metadata": {},
   "outputs": [
    {
     "name": "stdout",
     "output_type": "stream",
     "text": [
      "   nom_variable\n",
      "o           1.0\n",
      "d           4.0\n",
      "i          -1.0\n",
      "l           NaN\n"
     ]
    }
   ],
   "source": [
    "df = pd.DataFrame(s, columns = [\"nom_variable\"])\n",
    "print(df)"
   ]
  },
  {
   "cell_type": "code",
   "execution_count": 35,
   "metadata": {},
   "outputs": [
    {
     "name": "stdout",
     "output_type": "stream",
     "text": [
      "   nom_variable\n",
      "o           1.0\n",
      "d           4.0\n",
      "i          -1.0\n",
      "l           NaN\n"
     ]
    }
   ],
   "source": [
    "df1 = pd.DataFrame(s)\n",
    "print(df1)"
   ]
  },
  {
   "cell_type": "markdown",
   "metadata": {},
   "source": [
    "**NB:** Si on n’attribue pas de nom à la série, il suffit de ne pas renseigner le paramètre columns de la fonction DataFrame. Mais dans ce cas, la colonne n’aura pas de non, juste un index numérique."
   ]
  },
  {
   "cell_type": "code",
   "execution_count": 36,
   "metadata": {},
   "outputs": [
    {
     "name": "stdout",
     "output_type": "stream",
     "text": [
      "     0\n",
      "o  1.0\n",
      "d  4.0\n",
      "i -1.0\n",
      "l  NaN\n"
     ]
    }
   ],
   "source": [
    "s = pd.Series([1, 4, -1, np.nan], index = [\"o\", \"d\", \"i\", \"l\"])\n",
    "df = pd.DataFrame(s)\n",
    "print(df)"
   ]
  },
  {
   "cell_type": "markdown",
   "metadata": {},
   "source": [
    "### Création de dataframes à partir d’une liste de dictionnaire"
   ]
  },
  {
   "cell_type": "code",
   "execution_count": 37,
   "metadata": {},
   "outputs": [],
   "source": [
    "dico_1 = {\n",
    "    \"Nom\": \"Pendragon\",\n",
    "    \"Prenom\": \"Arthur\",\n",
    "    \"Role\": \"Roi de Bretagne\",\n",
    "    \"Guerrier\": \"Ouzin\"\n",
    "}\n",
    "dico_2 = {\n",
    "    \"Nom\": \"de Galles\",\n",
    "    \"Prenom\": \"Perceval\",\n",
    "    \"Role\": \"Chevalier du Pays de Galles\"\n",
    "}"
   ]
  },
  {
   "cell_type": "code",
   "execution_count": 38,
   "metadata": {},
   "outputs": [
    {
     "data": {
      "text/plain": [
       "{'Nom': 'Pendragon',\n",
       " 'Prenom': 'Arthur',\n",
       " 'Role': 'Roi de Bretagne',\n",
       " 'Guerrier': 'Ouzin'}"
      ]
     },
     "execution_count": 38,
     "metadata": {},
     "output_type": "execute_result"
    }
   ],
   "source": [
    "dico_1"
   ]
  },
  {
   "cell_type": "code",
   "execution_count": 39,
   "metadata": {},
   "outputs": [
    {
     "data": {
      "text/plain": [
       "{'Nom': 'de Galles',\n",
       " 'Prenom': 'Perceval',\n",
       " 'Role': 'Chevalier du Pays de Galles'}"
      ]
     },
     "execution_count": 39,
     "metadata": {},
     "output_type": "execute_result"
    }
   ],
   "source": [
    "dico_2"
   ]
  },
  {
   "cell_type": "code",
   "execution_count": 40,
   "metadata": {},
   "outputs": [
    {
     "name": "stdout",
     "output_type": "stream",
     "text": [
      "         Nom    Prenom                         Role Guerrier\n",
      "0  Pendragon    Arthur              Roi de Bretagne    Ouzin\n",
      "1  de Galles  Perceval  Chevalier du Pays de Galles      NaN\n"
     ]
    }
   ],
   "source": [
    "df = pd.DataFrame([dico_1, dico_2])\n",
    "print(df)"
   ]
  },
  {
   "cell_type": "markdown",
   "metadata": {},
   "source": [
    "### Remarque: Dans la pratique, nous allons importer des fichiers excel, csv, sql, etc. "
   ]
  },
  {
   "cell_type": "code",
   "execution_count": 41,
   "metadata": {},
   "outputs": [
    {
     "name": "stdout",
     "output_type": "stream",
     "text": [
      " Le volume dans le lecteur C n'a pas de nom.\n",
      " Le num‚ro de s‚rie du volume est D8A4-9F86\n",
      "\n",
      " R‚pertoire de C:\\Users\\Lenovo\\Desktop\\python-for-data-science-IPD\\Cour 5\n",
      "\n",
      "10/08/2020  21:00    <DIR>          .\n",
      "10/08/2020  21:00    <DIR>          ..\n",
      "01/08/2020  11:05    <DIR>          .ipynb_checkpoints\n",
      "02/08/2020  17:15           458ÿ236 Data Viz.ipynb\n",
      "31/07/2020  16:27    <DIR>          donnees\n",
      "10/08/2020  21:00            89ÿ740 Pandas.ipynb\n",
      "02/08/2020  17:15            11ÿ541 test.pdf\n",
      "               3 fichier(s)          559ÿ517 octets\n",
      "               4 R‚p(s)  549ÿ619ÿ712ÿ000 octets libres\n"
     ]
    }
   ],
   "source": [
    "ls"
   ]
  },
  {
   "cell_type": "code",
   "execution_count": 44,
   "metadata": {},
   "outputs": [
    {
     "name": "stdout",
     "output_type": "stream",
     "text": [
      "C:\\Users\\Lenovo\\Desktop\\python-for-data-science-IPD\\Cour 5\n"
     ]
    }
   ],
   "source": [
    "cd .."
   ]
  },
  {
   "cell_type": "code",
   "execution_count": 45,
   "metadata": {},
   "outputs": [],
   "source": [
    "df=pd.read_csv('donnees/housing.csv', sep=\",\")"
   ]
  },
  {
   "cell_type": "code",
   "execution_count": 46,
   "metadata": {},
   "outputs": [
    {
     "data": {
      "text/html": [
       "<div>\n",
       "<style scoped>\n",
       "    .dataframe tbody tr th:only-of-type {\n",
       "        vertical-align: middle;\n",
       "    }\n",
       "\n",
       "    .dataframe tbody tr th {\n",
       "        vertical-align: top;\n",
       "    }\n",
       "\n",
       "    .dataframe thead th {\n",
       "        text-align: right;\n",
       "    }\n",
       "</style>\n",
       "<table border=\"1\" class=\"dataframe\">\n",
       "  <thead>\n",
       "    <tr style=\"text-align: right;\">\n",
       "      <th></th>\n",
       "      <th>RM</th>\n",
       "      <th>LSTAT</th>\n",
       "      <th>PTRATIO</th>\n",
       "      <th>MEDV</th>\n",
       "    </tr>\n",
       "  </thead>\n",
       "  <tbody>\n",
       "    <tr>\n",
       "      <td>0</td>\n",
       "      <td>6.575</td>\n",
       "      <td>4.98</td>\n",
       "      <td>15.3</td>\n",
       "      <td>504000.0</td>\n",
       "    </tr>\n",
       "    <tr>\n",
       "      <td>1</td>\n",
       "      <td>6.421</td>\n",
       "      <td>9.14</td>\n",
       "      <td>17.8</td>\n",
       "      <td>453600.0</td>\n",
       "    </tr>\n",
       "  </tbody>\n",
       "</table>\n",
       "</div>"
      ],
      "text/plain": [
       "      RM  LSTAT  PTRATIO      MEDV\n",
       "0  6.575   4.98     15.3  504000.0\n",
       "1  6.421   9.14     17.8  453600.0"
      ]
     },
     "execution_count": 46,
     "metadata": {},
     "output_type": "execute_result"
    }
   ],
   "source": [
    "df.head(2)"
   ]
  },
  {
   "cell_type": "markdown",
   "metadata": {},
   "source": [
    "# Manipulation des DataFrame"
   ]
  },
  {
   "cell_type": "markdown",
   "metadata": {},
   "source": [
    "## Series"
   ]
  },
  {
   "cell_type": "code",
   "execution_count": 47,
   "metadata": {},
   "outputs": [],
   "source": [
    "df = pd.read_csv('donnees/imdb_1000.csv')"
   ]
  },
  {
   "cell_type": "code",
   "execution_count": 48,
   "metadata": {},
   "outputs": [
    {
     "data": {
      "text/html": [
       "<div>\n",
       "<style scoped>\n",
       "    .dataframe tbody tr th:only-of-type {\n",
       "        vertical-align: middle;\n",
       "    }\n",
       "\n",
       "    .dataframe tbody tr th {\n",
       "        vertical-align: top;\n",
       "    }\n",
       "\n",
       "    .dataframe thead th {\n",
       "        text-align: right;\n",
       "    }\n",
       "</style>\n",
       "<table border=\"1\" class=\"dataframe\">\n",
       "  <thead>\n",
       "    <tr style=\"text-align: right;\">\n",
       "      <th></th>\n",
       "      <th>star_rating</th>\n",
       "      <th>title</th>\n",
       "      <th>content_rating</th>\n",
       "      <th>genre</th>\n",
       "      <th>duration</th>\n",
       "      <th>actors_list</th>\n",
       "    </tr>\n",
       "  </thead>\n",
       "  <tbody>\n",
       "    <tr>\n",
       "      <td>0</td>\n",
       "      <td>9.3</td>\n",
       "      <td>The Shawshank Redemption</td>\n",
       "      <td>R</td>\n",
       "      <td>Crime</td>\n",
       "      <td>142</td>\n",
       "      <td>[u'Tim Robbins', u'Morgan Freeman', u'Bob Gunt...</td>\n",
       "    </tr>\n",
       "    <tr>\n",
       "      <td>1</td>\n",
       "      <td>9.2</td>\n",
       "      <td>The Godfather</td>\n",
       "      <td>R</td>\n",
       "      <td>Crime</td>\n",
       "      <td>175</td>\n",
       "      <td>[u'Marlon Brando', u'Al Pacino', u'James Caan']</td>\n",
       "    </tr>\n",
       "  </tbody>\n",
       "</table>\n",
       "</div>"
      ],
      "text/plain": [
       "   star_rating                     title content_rating  genre  duration  \\\n",
       "0          9.3  The Shawshank Redemption              R  Crime       142   \n",
       "1          9.2             The Godfather              R  Crime       175   \n",
       "\n",
       "                                         actors_list  \n",
       "0  [u'Tim Robbins', u'Morgan Freeman', u'Bob Gunt...  \n",
       "1    [u'Marlon Brando', u'Al Pacino', u'James Caan']  "
      ]
     },
     "execution_count": 48,
     "metadata": {},
     "output_type": "execute_result"
    }
   ],
   "source": [
    "df.head(2)"
   ]
  },
  {
   "cell_type": "code",
   "execution_count": 49,
   "metadata": {},
   "outputs": [
    {
     "data": {
      "text/html": [
       "<div>\n",
       "<style scoped>\n",
       "    .dataframe tbody tr th:only-of-type {\n",
       "        vertical-align: middle;\n",
       "    }\n",
       "\n",
       "    .dataframe tbody tr th {\n",
       "        vertical-align: top;\n",
       "    }\n",
       "\n",
       "    .dataframe thead th {\n",
       "        text-align: right;\n",
       "    }\n",
       "</style>\n",
       "<table border=\"1\" class=\"dataframe\">\n",
       "  <thead>\n",
       "    <tr style=\"text-align: right;\">\n",
       "      <th></th>\n",
       "      <th>star_rating</th>\n",
       "      <th>content_rating</th>\n",
       "      <th>genre</th>\n",
       "      <th>duration</th>\n",
       "      <th>actors_list</th>\n",
       "    </tr>\n",
       "    <tr>\n",
       "      <th>title</th>\n",
       "      <th></th>\n",
       "      <th></th>\n",
       "      <th></th>\n",
       "      <th></th>\n",
       "      <th></th>\n",
       "    </tr>\n",
       "  </thead>\n",
       "  <tbody>\n",
       "    <tr>\n",
       "      <td>The Shawshank Redemption</td>\n",
       "      <td>9.3</td>\n",
       "      <td>R</td>\n",
       "      <td>Crime</td>\n",
       "      <td>142</td>\n",
       "      <td>[u'Tim Robbins', u'Morgan Freeman', u'Bob Gunt...</td>\n",
       "    </tr>\n",
       "    <tr>\n",
       "      <td>The Godfather</td>\n",
       "      <td>9.2</td>\n",
       "      <td>R</td>\n",
       "      <td>Crime</td>\n",
       "      <td>175</td>\n",
       "      <td>[u'Marlon Brando', u'Al Pacino', u'James Caan']</td>\n",
       "    </tr>\n",
       "    <tr>\n",
       "      <td>The Godfather: Part II</td>\n",
       "      <td>9.1</td>\n",
       "      <td>R</td>\n",
       "      <td>Crime</td>\n",
       "      <td>200</td>\n",
       "      <td>[u'Al Pacino', u'Robert De Niro', u'Robert Duv...</td>\n",
       "    </tr>\n",
       "    <tr>\n",
       "      <td>The Dark Knight</td>\n",
       "      <td>9.0</td>\n",
       "      <td>PG-13</td>\n",
       "      <td>Action</td>\n",
       "      <td>152</td>\n",
       "      <td>[u'Christian Bale', u'Heath Ledger', u'Aaron E...</td>\n",
       "    </tr>\n",
       "    <tr>\n",
       "      <td>Pulp Fiction</td>\n",
       "      <td>8.9</td>\n",
       "      <td>R</td>\n",
       "      <td>Crime</td>\n",
       "      <td>154</td>\n",
       "      <td>[u'John Travolta', u'Uma Thurman', u'Samuel L....</td>\n",
       "    </tr>\n",
       "  </tbody>\n",
       "</table>\n",
       "</div>"
      ],
      "text/plain": [
       "                          star_rating content_rating   genre  duration  \\\n",
       "title                                                                    \n",
       "The Shawshank Redemption          9.3              R   Crime       142   \n",
       "The Godfather                     9.2              R   Crime       175   \n",
       "The Godfather: Part II            9.1              R   Crime       200   \n",
       "The Dark Knight                   9.0          PG-13  Action       152   \n",
       "Pulp Fiction                      8.9              R   Crime       154   \n",
       "\n",
       "                                                                actors_list  \n",
       "title                                                                        \n",
       "The Shawshank Redemption  [u'Tim Robbins', u'Morgan Freeman', u'Bob Gunt...  \n",
       "The Godfather               [u'Marlon Brando', u'Al Pacino', u'James Caan']  \n",
       "The Godfather: Part II    [u'Al Pacino', u'Robert De Niro', u'Robert Duv...  \n",
       "The Dark Knight           [u'Christian Bale', u'Heath Ledger', u'Aaron E...  \n",
       "Pulp Fiction              [u'John Travolta', u'Uma Thurman', u'Samuel L....  "
      ]
     },
     "execution_count": 49,
     "metadata": {},
     "output_type": "execute_result"
    }
   ],
   "source": [
    "df = df.set_index(\"title\")\n",
    "\n",
    "df.head()"
   ]
  },
  {
   "cell_type": "code",
   "execution_count": 50,
   "metadata": {},
   "outputs": [
    {
     "data": {
      "text/plain": [
       "Index(['The Shawshank Redemption', 'The Godfather', 'The Godfather: Part II',\n",
       "       'The Dark Knight', 'Pulp Fiction', '12 Angry Men',\n",
       "       'The Good, the Bad and the Ugly',\n",
       "       'The Lord of the Rings: The Return of the King', 'Schindler's List',\n",
       "       'Fight Club',\n",
       "       ...\n",
       "       'Law Abiding Citizen', 'Wonder Boys', 'Death at a Funeral',\n",
       "       'Blue Valentine', 'The Cider House Rules', 'Tootsie',\n",
       "       'Back to the Future Part III',\n",
       "       'Master and Commander: The Far Side of the World', 'Poltergeist',\n",
       "       'Wall Street'],\n",
       "      dtype='object', name='title', length=979)"
      ]
     },
     "execution_count": 50,
     "metadata": {},
     "output_type": "execute_result"
    }
   ],
   "source": [
    "df.index"
   ]
  },
  {
   "cell_type": "code",
   "execution_count": 51,
   "metadata": {},
   "outputs": [
    {
     "data": {
      "text/plain": [
       "title\n",
       "The Shawshank Redemption                               R\n",
       "The Godfather                                          R\n",
       "The Godfather: Part II                                 R\n",
       "The Dark Knight                                    PG-13\n",
       "Pulp Fiction                                           R\n",
       "                                                   ...  \n",
       "Tootsie                                               PG\n",
       "Back to the Future Part III                           PG\n",
       "Master and Commander: The Far Side of the World    PG-13\n",
       "Poltergeist                                           PG\n",
       "Wall Street                                            R\n",
       "Name: content_rating, Length: 979, dtype: object"
      ]
     },
     "execution_count": 51,
     "metadata": {},
     "output_type": "execute_result"
    }
   ],
   "source": [
    "df['content_rating']"
   ]
  },
  {
   "cell_type": "code",
   "execution_count": 52,
   "metadata": {},
   "outputs": [
    {
     "data": {
      "text/plain": [
       "pandas.core.series.Series"
      ]
     },
     "execution_count": 52,
     "metadata": {},
     "output_type": "execute_result"
    }
   ],
   "source": [
    "type(df['content_rating'])"
   ]
  },
  {
   "cell_type": "code",
   "execution_count": 53,
   "metadata": {},
   "outputs": [
    {
     "data": {
      "text/plain": [
       "array(['R', 'R', 'R', 'PG-13', 'R', 'NOT RATED', 'NOT RATED', 'PG-13',\n",
       "       'R', 'R', 'PG-13', 'PG-13', 'PG', 'PG-13', 'PG-13', 'PG-13', 'R',\n",
       "       'UNRATED', 'R', 'PG', 'R', 'R', 'APPROVED', 'R', 'R', 'PG-13',\n",
       "       'PG-13', 'R', 'R', 'PASSED', 'PG', 'R', 'PG', 'R', 'R', 'G', 'R',\n",
       "       'PG', 'APPROVED', 'R', 'R', 'NOT RATED', 'R', 'PG-13', 'R', 'R',\n",
       "       'R', 'PG', 'PG', 'R', 'R', 'R', 'APPROVED', 'PG-13', 'PG', 'G',\n",
       "       'R', 'R', 'APPROVED', 'R', 'PG-13', 'UNRATED', 'R', 'NOT RATED',\n",
       "       'G', 'APPROVED', 'NOT RATED', 'R', 'R', 'PG-13', 'R', 'APPROVED',\n",
       "       'NOT RATED', 'PG-13', 'APPROVED', 'R', 'APPROVED', 'R', 'R',\n",
       "       'PASSED', 'PG', 'G', 'R', 'NOT RATED', 'R', 'PG', 'X', 'NOT RATED',\n",
       "       'NOT RATED', 'NOT RATED', 'R', 'R', 'R', 'NOT RATED', 'APPROVED',\n",
       "       'APPROVED', 'UNRATED', 'PG', 'UNRATED', 'R', 'NOT RATED', 'PG',\n",
       "       'R', 'APPROVED', 'NOT RATED', 'NOT RATED', 'R', 'APPROVED',\n",
       "       'NOT RATED', 'NOT RATED', 'G', 'NOT RATED', 'R', 'PG-13', 'R', 'R',\n",
       "       'NOT RATED', 'G', 'PG-13', 'R', 'UNRATED', 'R', 'NOT RATED',\n",
       "       'UNRATED', 'R', 'R', 'PG', 'UNRATED', 'NOT RATED', 'R', 'R', 'G',\n",
       "       'NOT RATED', 'NOT RATED', 'NOT RATED', 'R', 'R', 'PG', 'R', 'R',\n",
       "       'NOT RATED', 'R', 'PG', 'R', 'UNRATED', 'R', 'PG-13', 'PG', 'PG',\n",
       "       'NOT RATED', 'R', 'R', 'R', 'R', 'PG', 'R', 'R', 'G', 'R',\n",
       "       'PASSED', 'PG', 'UNRATED', 'R', 'R', 'R', 'NOT RATED', 'R',\n",
       "       'NOT RATED', 'G', 'NOT RATED', 'PG-13', 'PG', 'R', 'R',\n",
       "       'NOT RATED', 'PG-13', 'R', 'PG-13', 'NOT RATED', 'PG', 'PG-13',\n",
       "       'NOT RATED', 'NOT RATED', 'NOT RATED', 'R', 'R', 'R', nan,\n",
       "       'NOT RATED', 'R', 'R', 'PG-13', 'G', 'PG', 'R', 'R', 'PG-13', 'R',\n",
       "       'R', 'R', 'PG', 'R', 'R', 'NOT RATED', 'G', 'R', 'R', 'APPROVED',\n",
       "       'PG', 'PG-13', 'APPROVED', 'PG-13', 'R', 'R', 'R', 'NOT RATED',\n",
       "       'R', 'UNRATED', 'R', 'TV-MA', 'PG', 'PG', 'PG-13', 'R', 'PASSED',\n",
       "       'R', 'R', 'PG-13', 'R', 'APPROVED', 'APPROVED', 'NOT RATED',\n",
       "       'PG-13', 'APPROVED', 'NOT RATED', 'R', 'PG', 'APPROVED', 'R',\n",
       "       'UNRATED', 'PG-13', 'PG', 'R', 'R', 'R', 'PG', 'NOT RATED', 'R',\n",
       "       'PG-13', 'PG', 'PG', 'APPROVED', 'NOT RATED', 'APPROVED',\n",
       "       'NOT RATED', 'NOT RATED', 'R', 'UNRATED', 'UNRATED', 'PG-13',\n",
       "       'PG-13', 'R', 'UNRATED', 'NOT RATED', 'R', 'NOT RATED', 'PG', 'PG',\n",
       "       'R', 'PG', 'PG-13', 'PG-13', 'APPROVED', 'R', 'R', 'PG', 'R', 'G',\n",
       "       'R', 'PG-13', 'PG', 'R', 'GP', 'R', 'PG', 'APPROVED', 'PG-13',\n",
       "       'APPROVED', 'R', 'UNRATED', 'R', 'UNRATED', 'APPROVED', 'PASSED',\n",
       "       'G', 'PG', 'R', 'PG', 'APPROVED', 'PG-13', 'R', 'PG-13', 'GP',\n",
       "       'PG', 'PG', 'PG-13', 'R', 'PG', 'R', 'R', 'PG-13', 'R', 'PG-13',\n",
       "       'G', 'PG-13', 'NOT RATED', 'R', 'UNRATED', 'R', 'R', 'R', 'R', 'R',\n",
       "       'R', 'R', 'R', 'R', 'PG', 'NOT RATED', 'APPROVED', 'UNRATED', 'R',\n",
       "       'G', 'APPROVED', 'R', 'PG-13', 'PG', 'R', 'UNRATED', 'PG-13',\n",
       "       'PG-13', 'PG-13', 'PG', 'NOT RATED', 'R', 'R', 'R', 'PG', 'G', 'R',\n",
       "       'APPROVED', 'UNRATED', 'R', 'UNRATED', 'R', 'R', 'PG-13', 'G',\n",
       "       'PASSED', 'PG-13', 'R', 'G', 'PG-13', 'R', 'R', 'R', 'PG-13', 'R',\n",
       "       'G', 'R', 'PG-13', 'R', 'R', 'PG-13', 'R', 'R', 'UNRATED', 'PG-13',\n",
       "       'PG', 'PG-13', 'PG-13', 'PG', 'R', 'R', 'UNRATED', 'PG-13', 'PG',\n",
       "       'X', 'R', 'UNRATED', 'R', 'PG-13', 'R', 'PG', 'R', 'PG', 'R',\n",
       "       'PG-13', 'PG', 'R', 'PG-13', 'R', 'R', 'PG-13', 'PG', 'NOT RATED',\n",
       "       'R', 'R', 'PG-13', 'R', 'APPROVED', 'PG-13', 'UNRATED', 'R', 'G',\n",
       "       'R', 'R', 'R', 'R', 'NOT RATED', 'PG', 'PG', 'R', 'R', 'R', 'PG',\n",
       "       'R', 'NOT RATED', 'PG-13', 'R', 'R', 'R', 'R', 'PG-13', 'PG-13',\n",
       "       'R', 'R', 'PG-13', 'R', 'PG-13', 'R', 'R', 'PG-13', 'PG',\n",
       "       'APPROVED', 'APPROVED', 'R', 'PG-13', 'PG', 'R', 'R', 'APPROVED',\n",
       "       'R', 'NOT RATED', 'R', 'PG-13', 'NC-17', 'R', 'R', 'PG-13',\n",
       "       'PG-13', 'G', 'R', 'R', 'R', 'R', 'R', 'UNRATED', 'PG', 'R', 'R',\n",
       "       'PG', 'UNRATED', 'R', 'R', 'R', 'PG-13', 'PG-13', 'NOT RATED', 'R',\n",
       "       'R', 'NOT RATED', 'R', 'R', 'APPROVED', 'R', 'X', 'PG-13', 'PG-13',\n",
       "       'PG-13', 'R', 'NOT RATED', 'R', 'R', 'PG', 'PG', 'R', 'G', 'G',\n",
       "       'PG-13', 'R', 'PG', 'R', 'PG-13', 'PG', 'R', 'R', 'PG-13', 'PG-13',\n",
       "       'R', 'PG-13', 'PG-13', 'PG', 'APPROVED', 'PG', 'R', 'PG', 'PG-13',\n",
       "       'PG', 'R', 'PG', 'APPROVED', 'PG-13', 'UNRATED', 'PG', 'PG',\n",
       "       'UNRATED', 'R', 'NOT RATED', 'R', 'R', 'NOT RATED', 'PG-13', 'R',\n",
       "       'G', 'PG', 'PG-13', 'PG', 'R', 'PG-13', 'PG-13', 'R', 'PG-13', 'R',\n",
       "       'R', 'R', 'NOT RATED', 'PG', 'R', 'R', 'PG-13', 'PG', 'R', 'R',\n",
       "       'PG-13', 'R', 'R', 'APPROVED', 'R', 'R', 'R', 'R', 'PG-13',\n",
       "       'APPROVED', 'R', 'PG', 'R', 'PG-13', 'PG-13', 'PG-13', 'R', 'R',\n",
       "       'PG-13', 'NOT RATED', 'R', 'APPROVED', 'R', 'PG-13', 'PG-13',\n",
       "       'PG-13', 'PG', 'R', 'UNRATED', 'R', 'R', 'PG', 'PG', 'R', 'R', 'R',\n",
       "       'PG', 'PG-13', 'NOT RATED', 'R', 'R', 'PG', 'R', 'R', 'R', 'R',\n",
       "       'R', 'R', 'R', 'R', 'NC-17', 'PG-13', 'R', 'R', 'R', 'R', 'R', 'R',\n",
       "       'APPROVED', 'R', 'R', 'R', 'R', 'PG', 'APPROVED', 'PASSED',\n",
       "       'PG-13', 'R', 'PG-13', 'PG-13', 'R', 'G', 'PG-13', 'PG-13', 'R',\n",
       "       'PG-13', 'PG-13', 'UNRATED', 'R', 'R', 'PG', 'R', 'R', 'R', 'R',\n",
       "       'PG-13', 'R', 'PG', 'PG-13', 'PG-13', 'PG-13', 'PG', 'R',\n",
       "       'NOT RATED', 'R', nan, 'R', 'R', 'UNRATED', 'PG-13', 'R', 'R',\n",
       "       'APPROVED', 'PG', 'PG-13', 'R', 'PG-13', 'PG-13', 'PG-13', 'R',\n",
       "       'PG', 'NOT RATED', 'R', 'PG-13', 'G', 'PG', 'R', 'R', 'R',\n",
       "       'NOT RATED', 'G', 'R', 'R', 'R', 'PG-13', 'PG-13', 'PG-13', 'R',\n",
       "       'PG-13', 'R', 'PG-13', 'R', 'PG-13', 'UNRATED', 'R', 'PG-13', 'R',\n",
       "       'GP', 'R', 'R', 'R', 'R', 'PG-13', 'R', 'R', 'PG-13', 'R', 'R',\n",
       "       'R', 'APPROVED', 'R', 'PG-13', 'PG-13', 'R', 'R', 'PG-13', 'R',\n",
       "       'R', 'R', 'APPROVED', 'R', 'NC-17', 'R', 'R', 'PG-13', 'R', 'R',\n",
       "       'R', 'R', 'R', 'R', 'R', 'PG-13', 'PG-13', 'R', 'R', 'UNRATED',\n",
       "       'R', 'R', 'R', 'R', 'PG-13', 'PG-13', 'PG', 'R', 'R', 'R', 'R',\n",
       "       'R', 'PG', 'R', 'R', 'R', 'R', 'PG', 'R', 'R', 'PG-13', 'R', 'PG',\n",
       "       'PG', 'NC-17', 'PG-13', 'UNRATED', 'PG-13', 'G', 'R', 'R', 'R',\n",
       "       'NOT RATED', 'PG', 'R', 'G', 'APPROVED', 'R', 'R', 'R', 'R', 'PG',\n",
       "       'R', 'R', 'PG', 'PG-13', 'PG-13', 'R', 'R', 'R', 'R', 'PG-13', 'R',\n",
       "       'R', 'R', 'R', 'PG-13', 'R', 'PG', 'PG-13', 'R', 'R', 'R', 'PG',\n",
       "       'R', 'NC-17', 'R', 'R', 'R', 'PG', 'PG-13', 'UNRATED', 'R',\n",
       "       'PG-13', 'PG-13', 'PG-13', 'R', 'R', 'PG-13', 'PG-13', 'R',\n",
       "       'PG-13', 'PG', 'PG-13', 'R', 'PG', 'PG-13', 'R', 'R', 'G', 'PG-13',\n",
       "       'PG', 'UNRATED', 'PG-13', 'PG', 'R', 'NOT RATED', 'R', 'R', 'R',\n",
       "       'R', 'R', 'R', 'R', 'PG', 'R', 'R', 'PG-13', 'R', 'R', 'R', 'R',\n",
       "       'R', 'APPROVED', 'PG-13', 'R', 'R', 'PG', 'PG-13', 'PG', 'PG-13',\n",
       "       'PG', 'PG', 'PG', 'R', 'PG-13', 'PG-13', 'PG-13', 'PG-13', 'R',\n",
       "       'R', 'R', 'R', 'R', 'PG-13', 'APPROVED', 'PG-13', 'PG-13', 'R',\n",
       "       'R', 'PG-13', 'R', 'R', 'PG-13', 'R', 'PG-13', 'R', 'R', 'R', 'R',\n",
       "       'R', 'G', 'R', 'R', 'R', 'R', 'R', 'PG-13', 'R', 'R', 'PG', 'R',\n",
       "       'R', 'PG-13', 'R', 'APPROVED', 'R', 'PG', 'NOT RATED', 'R', 'R',\n",
       "       'R', 'R', 'R', 'R', 'R', 'R', 'PG', 'PG', 'R', 'R', 'R', 'X', 'R',\n",
       "       'NC-17', 'R', 'R', 'R', 'R', 'R', 'R', 'PG-13', 'PG-13', 'PG-13',\n",
       "       'R', 'R', 'R', 'R', 'PG-13', 'R', 'R', 'PG-13', 'PG', 'PG-13', 'R',\n",
       "       nan, 'PG', 'G', 'R', 'PG-13', 'PG', 'PG-13', 'PG-13', 'R', 'R',\n",
       "       'PG-13', 'UNRATED', 'R', 'PG', 'R', 'R', 'R', 'PG', 'PG-13', 'R',\n",
       "       'PG', 'R', 'PG-13', 'R', 'PG-13', 'R', 'PG', 'R', 'PG-13', 'PG-13',\n",
       "       'PG-13', 'R', 'R', 'R', 'R', 'R', 'NC-17', 'PG-13', 'PG', 'PG',\n",
       "       'PG-13', 'PG', 'R'], dtype=object)"
      ]
     },
     "execution_count": 53,
     "metadata": {},
     "output_type": "execute_result"
    }
   ],
   "source": [
    "df['content_rating'].values"
   ]
  },
  {
   "cell_type": "code",
   "execution_count": 54,
   "metadata": {},
   "outputs": [
    {
     "name": "stdout",
     "output_type": "stream",
     "text": [
      "<class 'numpy.ndarray'>\n"
     ]
    }
   ],
   "source": [
    "print(type(df['content_rating'].values))"
   ]
  },
  {
   "cell_type": "code",
   "execution_count": 55,
   "metadata": {},
   "outputs": [
    {
     "data": {
      "text/plain": [
       "pandas.core.frame.DataFrame"
      ]
     },
     "execution_count": 55,
     "metadata": {},
     "output_type": "execute_result"
    }
   ],
   "source": [
    "type(df[[\"duration\", \"genre\"]])"
   ]
  },
  {
   "cell_type": "markdown",
   "metadata": {},
   "source": [
    "#### iloc et loc"
   ]
  },
  {
   "cell_type": "code",
   "execution_count": 56,
   "metadata": {},
   "outputs": [
    {
     "data": {
      "text/html": [
       "<div>\n",
       "<style scoped>\n",
       "    .dataframe tbody tr th:only-of-type {\n",
       "        vertical-align: middle;\n",
       "    }\n",
       "\n",
       "    .dataframe tbody tr th {\n",
       "        vertical-align: top;\n",
       "    }\n",
       "\n",
       "    .dataframe thead th {\n",
       "        text-align: right;\n",
       "    }\n",
       "</style>\n",
       "<table border=\"1\" class=\"dataframe\">\n",
       "  <thead>\n",
       "    <tr style=\"text-align: right;\">\n",
       "      <th></th>\n",
       "      <th>star_rating</th>\n",
       "      <th>content_rating</th>\n",
       "      <th>genre</th>\n",
       "      <th>duration</th>\n",
       "      <th>actors_list</th>\n",
       "    </tr>\n",
       "    <tr>\n",
       "      <th>title</th>\n",
       "      <th></th>\n",
       "      <th></th>\n",
       "      <th></th>\n",
       "      <th></th>\n",
       "      <th></th>\n",
       "    </tr>\n",
       "  </thead>\n",
       "  <tbody>\n",
       "    <tr>\n",
       "      <td>The Shawshank Redemption</td>\n",
       "      <td>9.3</td>\n",
       "      <td>R</td>\n",
       "      <td>Crime</td>\n",
       "      <td>142</td>\n",
       "      <td>[u'Tim Robbins', u'Morgan Freeman', u'Bob Gunt...</td>\n",
       "    </tr>\n",
       "    <tr>\n",
       "      <td>The Godfather</td>\n",
       "      <td>9.2</td>\n",
       "      <td>R</td>\n",
       "      <td>Crime</td>\n",
       "      <td>175</td>\n",
       "      <td>[u'Marlon Brando', u'Al Pacino', u'James Caan']</td>\n",
       "    </tr>\n",
       "  </tbody>\n",
       "</table>\n",
       "</div>"
      ],
      "text/plain": [
       "                          star_rating content_rating  genre  duration  \\\n",
       "title                                                                   \n",
       "The Shawshank Redemption          9.3              R  Crime       142   \n",
       "The Godfather                     9.2              R  Crime       175   \n",
       "\n",
       "                                                                actors_list  \n",
       "title                                                                        \n",
       "The Shawshank Redemption  [u'Tim Robbins', u'Morgan Freeman', u'Bob Gunt...  \n",
       "The Godfather               [u'Marlon Brando', u'Al Pacino', u'James Caan']  "
      ]
     },
     "execution_count": 56,
     "metadata": {},
     "output_type": "execute_result"
    }
   ],
   "source": [
    "df.head(2)"
   ]
  },
  {
   "cell_type": "code",
   "execution_count": 57,
   "metadata": {},
   "outputs": [
    {
     "data": {
      "text/plain": [
       "star_rating                                                     9.3\n",
       "content_rating                                                    R\n",
       "genre                                                         Crime\n",
       "duration                                                        142\n",
       "actors_list       [u'Tim Robbins', u'Morgan Freeman', u'Bob Gunt...\n",
       "Name: The Shawshank Redemption, dtype: object"
      ]
     },
     "execution_count": 57,
     "metadata": {},
     "output_type": "execute_result"
    }
   ],
   "source": [
    "df.iloc[0]"
   ]
  },
  {
   "cell_type": "code",
   "execution_count": 58,
   "metadata": {},
   "outputs": [
    {
     "data": {
      "text/plain": [
       "star_rating                                                   9.2\n",
       "content_rating                                                  R\n",
       "genre                                                       Crime\n",
       "duration                                                      175\n",
       "actors_list       [u'Marlon Brando', u'Al Pacino', u'James Caan']\n",
       "Name: The Godfather, dtype: object"
      ]
     },
     "execution_count": 58,
     "metadata": {},
     "output_type": "execute_result"
    }
   ],
   "source": [
    "df.iloc[1]"
   ]
  },
  {
   "cell_type": "code",
   "execution_count": 59,
   "metadata": {},
   "outputs": [
    {
     "data": {
      "text/html": [
       "<div>\n",
       "<style scoped>\n",
       "    .dataframe tbody tr th:only-of-type {\n",
       "        vertical-align: middle;\n",
       "    }\n",
       "\n",
       "    .dataframe tbody tr th {\n",
       "        vertical-align: top;\n",
       "    }\n",
       "\n",
       "    .dataframe thead th {\n",
       "        text-align: right;\n",
       "    }\n",
       "</style>\n",
       "<table border=\"1\" class=\"dataframe\">\n",
       "  <thead>\n",
       "    <tr style=\"text-align: right;\">\n",
       "      <th></th>\n",
       "      <th>star_rating</th>\n",
       "      <th>content_rating</th>\n",
       "      <th>genre</th>\n",
       "      <th>duration</th>\n",
       "      <th>actors_list</th>\n",
       "    </tr>\n",
       "    <tr>\n",
       "      <th>title</th>\n",
       "      <th></th>\n",
       "      <th></th>\n",
       "      <th></th>\n",
       "      <th></th>\n",
       "      <th></th>\n",
       "    </tr>\n",
       "  </thead>\n",
       "  <tbody>\n",
       "    <tr>\n",
       "      <td>Poltergeist</td>\n",
       "      <td>7.4</td>\n",
       "      <td>PG</td>\n",
       "      <td>Horror</td>\n",
       "      <td>114</td>\n",
       "      <td>[u'JoBeth Williams', u\"Heather O'Rourke\", u'Cr...</td>\n",
       "    </tr>\n",
       "    <tr>\n",
       "      <td>Wall Street</td>\n",
       "      <td>7.4</td>\n",
       "      <td>R</td>\n",
       "      <td>Crime</td>\n",
       "      <td>126</td>\n",
       "      <td>[u'Charlie Sheen', u'Michael Douglas', u'Tamar...</td>\n",
       "    </tr>\n",
       "  </tbody>\n",
       "</table>\n",
       "</div>"
      ],
      "text/plain": [
       "             star_rating content_rating   genre  duration  \\\n",
       "title                                                       \n",
       "Poltergeist          7.4             PG  Horror       114   \n",
       "Wall Street          7.4              R   Crime       126   \n",
       "\n",
       "                                                   actors_list  \n",
       "title                                                           \n",
       "Poltergeist  [u'JoBeth Williams', u\"Heather O'Rourke\", u'Cr...  \n",
       "Wall Street  [u'Charlie Sheen', u'Michael Douglas', u'Tamar...  "
      ]
     },
     "execution_count": 59,
     "metadata": {},
     "output_type": "execute_result"
    }
   ],
   "source": [
    "df.tail(2)"
   ]
  },
  {
   "cell_type": "code",
   "execution_count": 60,
   "metadata": {},
   "outputs": [
    {
     "data": {
      "text/plain": [
       "Index(['star_rating', 'content_rating', 'genre', 'duration', 'actors_list'], dtype='object')"
      ]
     },
     "execution_count": 60,
     "metadata": {},
     "output_type": "execute_result"
    }
   ],
   "source": [
    "df.columns"
   ]
  },
  {
   "cell_type": "code",
   "execution_count": 61,
   "metadata": {},
   "outputs": [
    {
     "data": {
      "text/plain": [
       "star_rating                                                     7.4\n",
       "content_rating                                                    R\n",
       "genre                                                         Crime\n",
       "duration                                                        126\n",
       "actors_list       [u'Charlie Sheen', u'Michael Douglas', u'Tamar...\n",
       "Name: Wall Street, dtype: object"
      ]
     },
     "execution_count": 61,
     "metadata": {},
     "output_type": "execute_result"
    }
   ],
   "source": [
    "df.iloc[-1]"
   ]
  },
  {
   "cell_type": "code",
   "execution_count": 62,
   "metadata": {},
   "outputs": [
    {
     "data": {
      "text/plain": [
       "title\n",
       "The Shawshank Redemption                           9.3\n",
       "The Godfather                                      9.2\n",
       "The Godfather: Part II                             9.1\n",
       "The Dark Knight                                    9.0\n",
       "Pulp Fiction                                       8.9\n",
       "                                                  ... \n",
       "Tootsie                                            7.4\n",
       "Back to the Future Part III                        7.4\n",
       "Master and Commander: The Far Side of the World    7.4\n",
       "Poltergeist                                        7.4\n",
       "Wall Street                                        7.4\n",
       "Name: star_rating, Length: 979, dtype: float64"
      ]
     },
     "execution_count": 62,
     "metadata": {},
     "output_type": "execute_result"
    }
   ],
   "source": [
    "df.iloc[:,0]"
   ]
  },
  {
   "cell_type": "code",
   "execution_count": 63,
   "metadata": {},
   "outputs": [
    {
     "data": {
      "text/plain": [
       "title\n",
       "The Shawshank Redemption                               R\n",
       "The Godfather                                          R\n",
       "The Godfather: Part II                                 R\n",
       "The Dark Knight                                    PG-13\n",
       "Pulp Fiction                                           R\n",
       "                                                   ...  \n",
       "Tootsie                                               PG\n",
       "Back to the Future Part III                           PG\n",
       "Master and Commander: The Far Side of the World    PG-13\n",
       "Poltergeist                                           PG\n",
       "Wall Street                                            R\n",
       "Name: content_rating, Length: 979, dtype: object"
      ]
     },
     "execution_count": 63,
     "metadata": {},
     "output_type": "execute_result"
    }
   ],
   "source": [
    "df.iloc[:,1]"
   ]
  },
  {
   "cell_type": "code",
   "execution_count": 64,
   "metadata": {},
   "outputs": [
    {
     "data": {
      "text/plain": [
       "title\n",
       "The Shawshank Redemption                           [u'Tim Robbins', u'Morgan Freeman', u'Bob Gunt...\n",
       "The Godfather                                        [u'Marlon Brando', u'Al Pacino', u'James Caan']\n",
       "The Godfather: Part II                             [u'Al Pacino', u'Robert De Niro', u'Robert Duv...\n",
       "The Dark Knight                                    [u'Christian Bale', u'Heath Ledger', u'Aaron E...\n",
       "Pulp Fiction                                       [u'John Travolta', u'Uma Thurman', u'Samuel L....\n",
       "                                                                         ...                        \n",
       "Tootsie                                            [u'Dustin Hoffman', u'Jessica Lange', u'Teri G...\n",
       "Back to the Future Part III                        [u'Michael J. Fox', u'Christopher Lloyd', u'Ma...\n",
       "Master and Commander: The Far Side of the World    [u'Russell Crowe', u'Paul Bettany', u'Billy Bo...\n",
       "Poltergeist                                        [u'JoBeth Williams', u\"Heather O'Rourke\", u'Cr...\n",
       "Wall Street                                        [u'Charlie Sheen', u'Michael Douglas', u'Tamar...\n",
       "Name: actors_list, Length: 979, dtype: object"
      ]
     },
     "execution_count": 64,
     "metadata": {},
     "output_type": "execute_result"
    }
   ],
   "source": [
    "df.iloc[:,-1]"
   ]
  },
  {
   "cell_type": "code",
   "execution_count": 65,
   "metadata": {},
   "outputs": [
    {
     "data": {
      "text/html": [
       "<div>\n",
       "<style scoped>\n",
       "    .dataframe tbody tr th:only-of-type {\n",
       "        vertical-align: middle;\n",
       "    }\n",
       "\n",
       "    .dataframe tbody tr th {\n",
       "        vertical-align: top;\n",
       "    }\n",
       "\n",
       "    .dataframe thead th {\n",
       "        text-align: right;\n",
       "    }\n",
       "</style>\n",
       "<table border=\"1\" class=\"dataframe\">\n",
       "  <thead>\n",
       "    <tr style=\"text-align: right;\">\n",
       "      <th></th>\n",
       "      <th>star_rating</th>\n",
       "      <th>content_rating</th>\n",
       "      <th>genre</th>\n",
       "      <th>duration</th>\n",
       "      <th>actors_list</th>\n",
       "    </tr>\n",
       "    <tr>\n",
       "      <th>title</th>\n",
       "      <th></th>\n",
       "      <th></th>\n",
       "      <th></th>\n",
       "      <th></th>\n",
       "      <th></th>\n",
       "    </tr>\n",
       "  </thead>\n",
       "  <tbody>\n",
       "    <tr>\n",
       "      <td>The Shawshank Redemption</td>\n",
       "      <td>9.3</td>\n",
       "      <td>R</td>\n",
       "      <td>Crime</td>\n",
       "      <td>142</td>\n",
       "      <td>[u'Tim Robbins', u'Morgan Freeman', u'Bob Gunt...</td>\n",
       "    </tr>\n",
       "    <tr>\n",
       "      <td>The Godfather</td>\n",
       "      <td>9.2</td>\n",
       "      <td>R</td>\n",
       "      <td>Crime</td>\n",
       "      <td>175</td>\n",
       "      <td>[u'Marlon Brando', u'Al Pacino', u'James Caan']</td>\n",
       "    </tr>\n",
       "    <tr>\n",
       "      <td>The Godfather: Part II</td>\n",
       "      <td>9.1</td>\n",
       "      <td>R</td>\n",
       "      <td>Crime</td>\n",
       "      <td>200</td>\n",
       "      <td>[u'Al Pacino', u'Robert De Niro', u'Robert Duv...</td>\n",
       "    </tr>\n",
       "    <tr>\n",
       "      <td>The Dark Knight</td>\n",
       "      <td>9.0</td>\n",
       "      <td>PG-13</td>\n",
       "      <td>Action</td>\n",
       "      <td>152</td>\n",
       "      <td>[u'Christian Bale', u'Heath Ledger', u'Aaron E...</td>\n",
       "    </tr>\n",
       "    <tr>\n",
       "      <td>Pulp Fiction</td>\n",
       "      <td>8.9</td>\n",
       "      <td>R</td>\n",
       "      <td>Crime</td>\n",
       "      <td>154</td>\n",
       "      <td>[u'John Travolta', u'Uma Thurman', u'Samuel L....</td>\n",
       "    </tr>\n",
       "  </tbody>\n",
       "</table>\n",
       "</div>"
      ],
      "text/plain": [
       "                          star_rating content_rating   genre  duration  \\\n",
       "title                                                                    \n",
       "The Shawshank Redemption          9.3              R   Crime       142   \n",
       "The Godfather                     9.2              R   Crime       175   \n",
       "The Godfather: Part II            9.1              R   Crime       200   \n",
       "The Dark Knight                   9.0          PG-13  Action       152   \n",
       "Pulp Fiction                      8.9              R   Crime       154   \n",
       "\n",
       "                                                                actors_list  \n",
       "title                                                                        \n",
       "The Shawshank Redemption  [u'Tim Robbins', u'Morgan Freeman', u'Bob Gunt...  \n",
       "The Godfather               [u'Marlon Brando', u'Al Pacino', u'James Caan']  \n",
       "The Godfather: Part II    [u'Al Pacino', u'Robert De Niro', u'Robert Duv...  \n",
       "The Dark Knight           [u'Christian Bale', u'Heath Ledger', u'Aaron E...  \n",
       "Pulp Fiction              [u'John Travolta', u'Uma Thurman', u'Samuel L....  "
      ]
     },
     "execution_count": 65,
     "metadata": {},
     "output_type": "execute_result"
    }
   ],
   "source": [
    "df.iloc[0:5]"
   ]
  },
  {
   "cell_type": "code",
   "execution_count": 66,
   "metadata": {},
   "outputs": [
    {
     "data": {
      "text/html": [
       "<div>\n",
       "<style scoped>\n",
       "    .dataframe tbody tr th:only-of-type {\n",
       "        vertical-align: middle;\n",
       "    }\n",
       "\n",
       "    .dataframe tbody tr th {\n",
       "        vertical-align: top;\n",
       "    }\n",
       "\n",
       "    .dataframe thead th {\n",
       "        text-align: right;\n",
       "    }\n",
       "</style>\n",
       "<table border=\"1\" class=\"dataframe\">\n",
       "  <thead>\n",
       "    <tr style=\"text-align: right;\">\n",
       "      <th></th>\n",
       "      <th>star_rating</th>\n",
       "      <th>content_rating</th>\n",
       "    </tr>\n",
       "    <tr>\n",
       "      <th>title</th>\n",
       "      <th></th>\n",
       "      <th></th>\n",
       "    </tr>\n",
       "  </thead>\n",
       "  <tbody>\n",
       "    <tr>\n",
       "      <td>The Shawshank Redemption</td>\n",
       "      <td>9.3</td>\n",
       "      <td>R</td>\n",
       "    </tr>\n",
       "    <tr>\n",
       "      <td>The Godfather</td>\n",
       "      <td>9.2</td>\n",
       "      <td>R</td>\n",
       "    </tr>\n",
       "    <tr>\n",
       "      <td>The Godfather: Part II</td>\n",
       "      <td>9.1</td>\n",
       "      <td>R</td>\n",
       "    </tr>\n",
       "    <tr>\n",
       "      <td>The Dark Knight</td>\n",
       "      <td>9.0</td>\n",
       "      <td>PG-13</td>\n",
       "    </tr>\n",
       "    <tr>\n",
       "      <td>Pulp Fiction</td>\n",
       "      <td>8.9</td>\n",
       "      <td>R</td>\n",
       "    </tr>\n",
       "    <tr>\n",
       "      <td>...</td>\n",
       "      <td>...</td>\n",
       "      <td>...</td>\n",
       "    </tr>\n",
       "    <tr>\n",
       "      <td>Tootsie</td>\n",
       "      <td>7.4</td>\n",
       "      <td>PG</td>\n",
       "    </tr>\n",
       "    <tr>\n",
       "      <td>Back to the Future Part III</td>\n",
       "      <td>7.4</td>\n",
       "      <td>PG</td>\n",
       "    </tr>\n",
       "    <tr>\n",
       "      <td>Master and Commander: The Far Side of the World</td>\n",
       "      <td>7.4</td>\n",
       "      <td>PG-13</td>\n",
       "    </tr>\n",
       "    <tr>\n",
       "      <td>Poltergeist</td>\n",
       "      <td>7.4</td>\n",
       "      <td>PG</td>\n",
       "    </tr>\n",
       "    <tr>\n",
       "      <td>Wall Street</td>\n",
       "      <td>7.4</td>\n",
       "      <td>R</td>\n",
       "    </tr>\n",
       "  </tbody>\n",
       "</table>\n",
       "<p>979 rows × 2 columns</p>\n",
       "</div>"
      ],
      "text/plain": [
       "                                                 star_rating content_rating\n",
       "title                                                                      \n",
       "The Shawshank Redemption                                 9.3              R\n",
       "The Godfather                                            9.2              R\n",
       "The Godfather: Part II                                   9.1              R\n",
       "The Dark Knight                                          9.0          PG-13\n",
       "Pulp Fiction                                             8.9              R\n",
       "...                                                      ...            ...\n",
       "Tootsie                                                  7.4             PG\n",
       "Back to the Future Part III                              7.4             PG\n",
       "Master and Commander: The Far Side of the World          7.4          PG-13\n",
       "Poltergeist                                              7.4             PG\n",
       "Wall Street                                              7.4              R\n",
       "\n",
       "[979 rows x 2 columns]"
      ]
     },
     "execution_count": 66,
     "metadata": {},
     "output_type": "execute_result"
    }
   ],
   "source": [
    "df.iloc[:, 0:2]"
   ]
  },
  {
   "cell_type": "code",
   "execution_count": 67,
   "metadata": {},
   "outputs": [
    {
     "data": {
      "text/html": [
       "<div>\n",
       "<style scoped>\n",
       "    .dataframe tbody tr th:only-of-type {\n",
       "        vertical-align: middle;\n",
       "    }\n",
       "\n",
       "    .dataframe tbody tr th {\n",
       "        vertical-align: top;\n",
       "    }\n",
       "\n",
       "    .dataframe thead th {\n",
       "        text-align: right;\n",
       "    }\n",
       "</style>\n",
       "<table border=\"1\" class=\"dataframe\">\n",
       "  <thead>\n",
       "    <tr style=\"text-align: right;\">\n",
       "      <th></th>\n",
       "      <th>star_rating</th>\n",
       "      <th>genre</th>\n",
       "    </tr>\n",
       "    <tr>\n",
       "      <th>title</th>\n",
       "      <th></th>\n",
       "      <th></th>\n",
       "    </tr>\n",
       "  </thead>\n",
       "  <tbody>\n",
       "    <tr>\n",
       "      <td>The Shawshank Redemption</td>\n",
       "      <td>9.3</td>\n",
       "      <td>Crime</td>\n",
       "    </tr>\n",
       "    <tr>\n",
       "      <td>The Dark Knight</td>\n",
       "      <td>9.0</td>\n",
       "      <td>Action</td>\n",
       "    </tr>\n",
       "    <tr>\n",
       "      <td>The Good, the Bad and the Ugly</td>\n",
       "      <td>8.9</td>\n",
       "      <td>Western</td>\n",
       "    </tr>\n",
       "    <tr>\n",
       "      <td>Se7en</td>\n",
       "      <td>8.7</td>\n",
       "      <td>Drama</td>\n",
       "    </tr>\n",
       "  </tbody>\n",
       "</table>\n",
       "</div>"
      ],
      "text/plain": [
       "                                star_rating    genre\n",
       "title                                               \n",
       "The Shawshank Redemption                9.3    Crime\n",
       "The Dark Knight                         9.0   Action\n",
       "The Good, the Bad and the Ugly          8.9  Western\n",
       "Se7en                                   8.7    Drama"
      ]
     },
     "execution_count": 67,
     "metadata": {},
     "output_type": "execute_result"
    }
   ],
   "source": [
    "df.iloc[[0,3,6,24], [0,2]]"
   ]
  },
  {
   "cell_type": "code",
   "execution_count": 68,
   "metadata": {},
   "outputs": [
    {
     "data": {
      "text/plain": [
       "title\n",
       "The Shawshank Redemption    9.3\n",
       "The Godfather               9.2\n",
       "The Godfather: Part II      9.1\n",
       "The Dark Knight             9.0\n",
       "Pulp Fiction                8.9\n",
       "Name: star_rating, dtype: float64"
      ]
     },
     "execution_count": 68,
     "metadata": {},
     "output_type": "execute_result"
    }
   ],
   "source": [
    "df.iloc[:5, 0]"
   ]
  },
  {
   "cell_type": "code",
   "execution_count": 69,
   "metadata": {},
   "outputs": [
    {
     "data": {
      "text/html": [
       "<div>\n",
       "<style scoped>\n",
       "    .dataframe tbody tr th:only-of-type {\n",
       "        vertical-align: middle;\n",
       "    }\n",
       "\n",
       "    .dataframe tbody tr th {\n",
       "        vertical-align: top;\n",
       "    }\n",
       "\n",
       "    .dataframe thead th {\n",
       "        text-align: right;\n",
       "    }\n",
       "</style>\n",
       "<table border=\"1\" class=\"dataframe\">\n",
       "  <thead>\n",
       "    <tr style=\"text-align: right;\">\n",
       "      <th></th>\n",
       "      <th>star_rating</th>\n",
       "      <th>content_rating</th>\n",
       "      <th>genre</th>\n",
       "      <th>duration</th>\n",
       "      <th>actors_list</th>\n",
       "    </tr>\n",
       "    <tr>\n",
       "      <th>title</th>\n",
       "      <th></th>\n",
       "      <th></th>\n",
       "      <th></th>\n",
       "      <th></th>\n",
       "      <th></th>\n",
       "    </tr>\n",
       "  </thead>\n",
       "  <tbody>\n",
       "    <tr>\n",
       "      <td>The Shawshank Redemption</td>\n",
       "      <td>9.3</td>\n",
       "      <td>R</td>\n",
       "      <td>Crime</td>\n",
       "      <td>142</td>\n",
       "      <td>[u'Tim Robbins', u'Morgan Freeman', u'Bob Gunt...</td>\n",
       "    </tr>\n",
       "    <tr>\n",
       "      <td>The Godfather</td>\n",
       "      <td>9.2</td>\n",
       "      <td>R</td>\n",
       "      <td>Crime</td>\n",
       "      <td>175</td>\n",
       "      <td>[u'Marlon Brando', u'Al Pacino', u'James Caan']</td>\n",
       "    </tr>\n",
       "    <tr>\n",
       "      <td>The Godfather: Part II</td>\n",
       "      <td>9.1</td>\n",
       "      <td>R</td>\n",
       "      <td>Crime</td>\n",
       "      <td>200</td>\n",
       "      <td>[u'Al Pacino', u'Robert De Niro', u'Robert Duv...</td>\n",
       "    </tr>\n",
       "    <tr>\n",
       "      <td>The Dark Knight</td>\n",
       "      <td>9.0</td>\n",
       "      <td>PG-13</td>\n",
       "      <td>Action</td>\n",
       "      <td>152</td>\n",
       "      <td>[u'Christian Bale', u'Heath Ledger', u'Aaron E...</td>\n",
       "    </tr>\n",
       "    <tr>\n",
       "      <td>Pulp Fiction</td>\n",
       "      <td>8.9</td>\n",
       "      <td>R</td>\n",
       "      <td>Crime</td>\n",
       "      <td>154</td>\n",
       "      <td>[u'John Travolta', u'Uma Thurman', u'Samuel L....</td>\n",
       "    </tr>\n",
       "  </tbody>\n",
       "</table>\n",
       "</div>"
      ],
      "text/plain": [
       "                          star_rating content_rating   genre  duration  \\\n",
       "title                                                                    \n",
       "The Shawshank Redemption          9.3              R   Crime       142   \n",
       "The Godfather                     9.2              R   Crime       175   \n",
       "The Godfather: Part II            9.1              R   Crime       200   \n",
       "The Dark Knight                   9.0          PG-13  Action       152   \n",
       "Pulp Fiction                      8.9              R   Crime       154   \n",
       "\n",
       "                                                                actors_list  \n",
       "title                                                                        \n",
       "The Shawshank Redemption  [u'Tim Robbins', u'Morgan Freeman', u'Bob Gunt...  \n",
       "The Godfather               [u'Marlon Brando', u'Al Pacino', u'James Caan']  \n",
       "The Godfather: Part II    [u'Al Pacino', u'Robert De Niro', u'Robert Duv...  \n",
       "The Dark Knight           [u'Christian Bale', u'Heath Ledger', u'Aaron E...  \n",
       "Pulp Fiction              [u'John Travolta', u'Uma Thurman', u'Samuel L....  "
      ]
     },
     "execution_count": 69,
     "metadata": {},
     "output_type": "execute_result"
    }
   ],
   "source": [
    "df.head()"
   ]
  },
  {
   "cell_type": "code",
   "execution_count": 70,
   "metadata": {},
   "outputs": [
    {
     "name": "stdout",
     "output_type": "stream",
     "text": [
      "[u'Tim Robbins', u'Morgan Freeman', u'Bob Gunton']\n"
     ]
    }
   ],
   "source": [
    "print(df.iloc[0,4])"
   ]
  },
  {
   "cell_type": "code",
   "execution_count": 71,
   "metadata": {},
   "outputs": [
    {
     "name": "stdout",
     "output_type": "stream",
     "text": [
      "[u'Tim Robbins', u'Morgan Freeman', u'Bob Gunton']\n"
     ]
    }
   ],
   "source": [
    "print(df.iloc[0][\"actors_list\"])"
   ]
  },
  {
   "cell_type": "markdown",
   "metadata": {},
   "source": [
    "Si vous préferez les clés, il faudra utiliser **loc**"
   ]
  },
  {
   "cell_type": "code",
   "execution_count": 72,
   "metadata": {},
   "outputs": [
    {
     "data": {
      "text/plain": [
       "star_rating                                                     8.7\n",
       "content_rating                                                    R\n",
       "genre                                                         Crime\n",
       "duration                                                        106\n",
       "actors_list       [u'Kevin Spacey', u'Gabriel Byrne', u'Chazz Pa...\n",
       "Name: The Usual Suspects, dtype: object"
      ]
     },
     "execution_count": 72,
     "metadata": {},
     "output_type": "execute_result"
    }
   ],
   "source": [
    "df.loc[\"The Usual Suspects\"]"
   ]
  },
  {
   "cell_type": "code",
   "execution_count": 73,
   "metadata": {},
   "outputs": [
    {
     "data": {
      "text/plain": [
       "\"[u'Kevin Spacey', u'Gabriel Byrne', u'Chazz Palminteri']\""
      ]
     },
     "execution_count": 73,
     "metadata": {},
     "output_type": "execute_result"
    }
   ],
   "source": [
    "df.loc[\"The Usual Suspects\", \"actors_list\"]"
   ]
  },
  {
   "cell_type": "code",
   "execution_count": 74,
   "metadata": {},
   "outputs": [
    {
     "data": {
      "text/html": [
       "<div>\n",
       "<style scoped>\n",
       "    .dataframe tbody tr th:only-of-type {\n",
       "        vertical-align: middle;\n",
       "    }\n",
       "\n",
       "    .dataframe tbody tr th {\n",
       "        vertical-align: top;\n",
       "    }\n",
       "\n",
       "    .dataframe thead th {\n",
       "        text-align: right;\n",
       "    }\n",
       "</style>\n",
       "<table border=\"1\" class=\"dataframe\">\n",
       "  <thead>\n",
       "    <tr style=\"text-align: right;\">\n",
       "      <th></th>\n",
       "      <th>genre</th>\n",
       "      <th>duration</th>\n",
       "    </tr>\n",
       "    <tr>\n",
       "      <th>title</th>\n",
       "      <th></th>\n",
       "      <th></th>\n",
       "    </tr>\n",
       "  </thead>\n",
       "  <tbody>\n",
       "    <tr>\n",
       "      <td>Blue Valentine</td>\n",
       "      <td>Drama</td>\n",
       "      <td>112</td>\n",
       "    </tr>\n",
       "    <tr>\n",
       "      <td>The Cider House Rules</td>\n",
       "      <td>Drama</td>\n",
       "      <td>126</td>\n",
       "    </tr>\n",
       "    <tr>\n",
       "      <td>Tootsie</td>\n",
       "      <td>Comedy</td>\n",
       "      <td>116</td>\n",
       "    </tr>\n",
       "    <tr>\n",
       "      <td>Back to the Future Part III</td>\n",
       "      <td>Adventure</td>\n",
       "      <td>118</td>\n",
       "    </tr>\n",
       "    <tr>\n",
       "      <td>Master and Commander: The Far Side of the World</td>\n",
       "      <td>Action</td>\n",
       "      <td>138</td>\n",
       "    </tr>\n",
       "    <tr>\n",
       "      <td>Poltergeist</td>\n",
       "      <td>Horror</td>\n",
       "      <td>114</td>\n",
       "    </tr>\n",
       "    <tr>\n",
       "      <td>Wall Street</td>\n",
       "      <td>Crime</td>\n",
       "      <td>126</td>\n",
       "    </tr>\n",
       "  </tbody>\n",
       "</table>\n",
       "</div>"
      ],
      "text/plain": [
       "                                                     genre  duration\n",
       "title                                                               \n",
       "Blue Valentine                                       Drama       112\n",
       "The Cider House Rules                                Drama       126\n",
       "Tootsie                                             Comedy       116\n",
       "Back to the Future Part III                      Adventure       118\n",
       "Master and Commander: The Far Side of the World     Action       138\n",
       "Poltergeist                                         Horror       114\n",
       "Wall Street                                          Crime       126"
      ]
     },
     "execution_count": 74,
     "metadata": {},
     "output_type": "execute_result"
    }
   ],
   "source": [
    "df.loc[\"Blue Valentine\":, [\"genre\", \"duration\"]]"
   ]
  },
  {
   "cell_type": "markdown",
   "metadata": {},
   "source": [
    "### Filtrage"
   ]
  },
  {
   "cell_type": "code",
   "execution_count": 75,
   "metadata": {},
   "outputs": [
    {
     "data": {
      "text/plain": [
       "title\n",
       "The Shawshank Redemption    False\n",
       "The Godfather               False\n",
       "The Godfather: Part II      False\n",
       "The Dark Knight             False\n",
       "Pulp Fiction                False\n",
       "Name: genre, dtype: bool"
      ]
     },
     "execution_count": 75,
     "metadata": {},
     "output_type": "execute_result"
    }
   ],
   "source": [
    "drama_movies_bool = df['genre'] == \"Drama\"\n",
    "drama_movies_bool.head()"
   ]
  },
  {
   "cell_type": "code",
   "execution_count": 76,
   "metadata": {},
   "outputs": [
    {
     "data": {
      "text/html": [
       "<div>\n",
       "<style scoped>\n",
       "    .dataframe tbody tr th:only-of-type {\n",
       "        vertical-align: middle;\n",
       "    }\n",
       "\n",
       "    .dataframe tbody tr th {\n",
       "        vertical-align: top;\n",
       "    }\n",
       "\n",
       "    .dataframe thead th {\n",
       "        text-align: right;\n",
       "    }\n",
       "</style>\n",
       "<table border=\"1\" class=\"dataframe\">\n",
       "  <thead>\n",
       "    <tr style=\"text-align: right;\">\n",
       "      <th></th>\n",
       "      <th>star_rating</th>\n",
       "      <th>content_rating</th>\n",
       "      <th>genre</th>\n",
       "      <th>duration</th>\n",
       "      <th>actors_list</th>\n",
       "    </tr>\n",
       "    <tr>\n",
       "      <th>title</th>\n",
       "      <th></th>\n",
       "      <th></th>\n",
       "      <th></th>\n",
       "      <th></th>\n",
       "      <th></th>\n",
       "    </tr>\n",
       "  </thead>\n",
       "  <tbody>\n",
       "    <tr>\n",
       "      <td>12 Angry Men</td>\n",
       "      <td>8.9</td>\n",
       "      <td>NOT RATED</td>\n",
       "      <td>Drama</td>\n",
       "      <td>96</td>\n",
       "      <td>[u'Henry Fonda', u'Lee J. Cobb', u'Martin Bals...</td>\n",
       "    </tr>\n",
       "    <tr>\n",
       "      <td>Fight Club</td>\n",
       "      <td>8.9</td>\n",
       "      <td>R</td>\n",
       "      <td>Drama</td>\n",
       "      <td>139</td>\n",
       "      <td>[u'Brad Pitt', u'Edward Norton', u'Helena Bonh...</td>\n",
       "    </tr>\n",
       "    <tr>\n",
       "      <td>Forrest Gump</td>\n",
       "      <td>8.8</td>\n",
       "      <td>PG-13</td>\n",
       "      <td>Drama</td>\n",
       "      <td>142</td>\n",
       "      <td>[u'Tom Hanks', u'Robin Wright', u'Gary Sinise']</td>\n",
       "    </tr>\n",
       "    <tr>\n",
       "      <td>One Flew Over the Cuckoo's Nest</td>\n",
       "      <td>8.7</td>\n",
       "      <td>R</td>\n",
       "      <td>Drama</td>\n",
       "      <td>133</td>\n",
       "      <td>[u'Jack Nicholson', u'Louise Fletcher', u'Mich...</td>\n",
       "    </tr>\n",
       "    <tr>\n",
       "      <td>Seven Samurai</td>\n",
       "      <td>8.7</td>\n",
       "      <td>UNRATED</td>\n",
       "      <td>Drama</td>\n",
       "      <td>207</td>\n",
       "      <td>[u'Toshir\\xf4 Mifune', u'Takashi Shimura', u'K...</td>\n",
       "    </tr>\n",
       "  </tbody>\n",
       "</table>\n",
       "</div>"
      ],
      "text/plain": [
       "                                 star_rating content_rating  genre  duration  \\\n",
       "title                                                                          \n",
       "12 Angry Men                             8.9      NOT RATED  Drama        96   \n",
       "Fight Club                               8.9              R  Drama       139   \n",
       "Forrest Gump                             8.8          PG-13  Drama       142   \n",
       "One Flew Over the Cuckoo's Nest          8.7              R  Drama       133   \n",
       "Seven Samurai                            8.7        UNRATED  Drama       207   \n",
       "\n",
       "                                                                       actors_list  \n",
       "title                                                                               \n",
       "12 Angry Men                     [u'Henry Fonda', u'Lee J. Cobb', u'Martin Bals...  \n",
       "Fight Club                       [u'Brad Pitt', u'Edward Norton', u'Helena Bonh...  \n",
       "Forrest Gump                       [u'Tom Hanks', u'Robin Wright', u'Gary Sinise']  \n",
       "One Flew Over the Cuckoo's Nest  [u'Jack Nicholson', u'Louise Fletcher', u'Mich...  \n",
       "Seven Samurai                    [u'Toshir\\xf4 Mifune', u'Takashi Shimura', u'K...  "
      ]
     },
     "execution_count": 76,
     "metadata": {},
     "output_type": "execute_result"
    }
   ],
   "source": [
    "drama_movies = df.loc[drama_movies_bool]\n",
    "drama_movies.head()"
   ]
  },
  {
   "cell_type": "code",
   "execution_count": 77,
   "metadata": {},
   "outputs": [
    {
     "data": {
      "text/html": [
       "<div>\n",
       "<style scoped>\n",
       "    .dataframe tbody tr th:only-of-type {\n",
       "        vertical-align: middle;\n",
       "    }\n",
       "\n",
       "    .dataframe tbody tr th {\n",
       "        vertical-align: top;\n",
       "    }\n",
       "\n",
       "    .dataframe thead th {\n",
       "        text-align: right;\n",
       "    }\n",
       "</style>\n",
       "<table border=\"1\" class=\"dataframe\">\n",
       "  <thead>\n",
       "    <tr style=\"text-align: right;\">\n",
       "      <th></th>\n",
       "      <th>star_rating</th>\n",
       "    </tr>\n",
       "    <tr>\n",
       "      <th>title</th>\n",
       "      <th></th>\n",
       "    </tr>\n",
       "  </thead>\n",
       "  <tbody>\n",
       "    <tr>\n",
       "      <td>The Shawshank Redemption</td>\n",
       "      <td>9.3</td>\n",
       "    </tr>\n",
       "    <tr>\n",
       "      <td>The Godfather</td>\n",
       "      <td>9.2</td>\n",
       "    </tr>\n",
       "    <tr>\n",
       "      <td>The Godfather: Part II</td>\n",
       "      <td>9.1</td>\n",
       "    </tr>\n",
       "  </tbody>\n",
       "</table>\n",
       "</div>"
      ],
      "text/plain": [
       "                          star_rating\n",
       "title                                \n",
       "The Shawshank Redemption          9.3\n",
       "The Godfather                     9.2\n",
       "The Godfather: Part II            9.1"
      ]
     },
     "execution_count": 77,
     "metadata": {},
     "output_type": "execute_result"
    }
   ],
   "source": [
    "top_movies = df.loc[df[\"star_rating\"] > 9, [\"star_rating\"]]\n",
    "top_movies"
   ]
  },
  {
   "cell_type": "markdown",
   "metadata": {},
   "source": [
    "#  Modification des données\n",
    "\n",
    "##  Ajouter/Supprimer les lignes et les colnnes"
   ]
  },
  {
   "cell_type": "code",
   "execution_count": 82,
   "metadata": {},
   "outputs": [
    {
     "data": {
      "text/html": [
       "<div>\n",
       "<style scoped>\n",
       "    .dataframe tbody tr th:only-of-type {\n",
       "        vertical-align: middle;\n",
       "    }\n",
       "\n",
       "    .dataframe tbody tr th {\n",
       "        vertical-align: top;\n",
       "    }\n",
       "\n",
       "    .dataframe thead th {\n",
       "        text-align: right;\n",
       "    }\n",
       "</style>\n",
       "<table border=\"1\" class=\"dataframe\">\n",
       "  <thead>\n",
       "    <tr style=\"text-align: right;\">\n",
       "      <th></th>\n",
       "      <th>star_rating</th>\n",
       "      <th>content_rating</th>\n",
       "      <th>genre</th>\n",
       "      <th>duration</th>\n",
       "      <th>actors_list</th>\n",
       "      <th>type</th>\n",
       "      <th>long_movie</th>\n",
       "    </tr>\n",
       "    <tr>\n",
       "      <th>title</th>\n",
       "      <th></th>\n",
       "      <th></th>\n",
       "      <th></th>\n",
       "      <th></th>\n",
       "      <th></th>\n",
       "      <th></th>\n",
       "      <th></th>\n",
       "    </tr>\n",
       "  </thead>\n",
       "  <tbody>\n",
       "    <tr>\n",
       "      <td>The Shawshank Redemption</td>\n",
       "      <td>9.3</td>\n",
       "      <td>R</td>\n",
       "      <td>Crime</td>\n",
       "      <td>142</td>\n",
       "      <td>[u'Tim Robbins', u'Morgan Freeman', u'Bob Gunt...</td>\n",
       "      <td>movie</td>\n",
       "      <td>False</td>\n",
       "    </tr>\n",
       "    <tr>\n",
       "      <td>The Godfather</td>\n",
       "      <td>9.2</td>\n",
       "      <td>R</td>\n",
       "      <td>Crime</td>\n",
       "      <td>175</td>\n",
       "      <td>[u'Marlon Brando', u'Al Pacino', u'James Caan']</td>\n",
       "      <td>movie</td>\n",
       "      <td>True</td>\n",
       "    </tr>\n",
       "    <tr>\n",
       "      <td>The Godfather: Part II</td>\n",
       "      <td>9.1</td>\n",
       "      <td>R</td>\n",
       "      <td>Crime</td>\n",
       "      <td>200</td>\n",
       "      <td>[u'Al Pacino', u'Robert De Niro', u'Robert Duv...</td>\n",
       "      <td>movie</td>\n",
       "      <td>True</td>\n",
       "    </tr>\n",
       "    <tr>\n",
       "      <td>The Dark Knight</td>\n",
       "      <td>9.0</td>\n",
       "      <td>PG-13</td>\n",
       "      <td>Action</td>\n",
       "      <td>152</td>\n",
       "      <td>[u'Christian Bale', u'Heath Ledger', u'Aaron E...</td>\n",
       "      <td>movie</td>\n",
       "      <td>False</td>\n",
       "    </tr>\n",
       "    <tr>\n",
       "      <td>Pulp Fiction</td>\n",
       "      <td>8.9</td>\n",
       "      <td>R</td>\n",
       "      <td>Crime</td>\n",
       "      <td>154</td>\n",
       "      <td>[u'John Travolta', u'Uma Thurman', u'Samuel L....</td>\n",
       "      <td>movie</td>\n",
       "      <td>False</td>\n",
       "    </tr>\n",
       "  </tbody>\n",
       "</table>\n",
       "</div>"
      ],
      "text/plain": [
       "                          star_rating content_rating   genre  duration  \\\n",
       "title                                                                    \n",
       "The Shawshank Redemption          9.3              R   Crime       142   \n",
       "The Godfather                     9.2              R   Crime       175   \n",
       "The Godfather: Part II            9.1              R   Crime       200   \n",
       "The Dark Knight                   9.0          PG-13  Action       152   \n",
       "Pulp Fiction                      8.9              R   Crime       154   \n",
       "\n",
       "                                                                actors_list  \\\n",
       "title                                                                         \n",
       "The Shawshank Redemption  [u'Tim Robbins', u'Morgan Freeman', u'Bob Gunt...   \n",
       "The Godfather               [u'Marlon Brando', u'Al Pacino', u'James Caan']   \n",
       "The Godfather: Part II    [u'Al Pacino', u'Robert De Niro', u'Robert Duv...   \n",
       "The Dark Knight           [u'Christian Bale', u'Heath Ledger', u'Aaron E...   \n",
       "Pulp Fiction              [u'John Travolta', u'Uma Thurman', u'Samuel L....   \n",
       "\n",
       "                           type  long_movie  \n",
       "title                                        \n",
       "The Shawshank Redemption  movie       False  \n",
       "The Godfather             movie        True  \n",
       "The Godfather: Part II    movie        True  \n",
       "The Dark Knight           movie       False  \n",
       "Pulp Fiction              movie       False  "
      ]
     },
     "execution_count": 82,
     "metadata": {},
     "output_type": "execute_result"
    }
   ],
   "source": [
    "df.head()"
   ]
  },
  {
   "cell_type": "code",
   "execution_count": 79,
   "metadata": {},
   "outputs": [],
   "source": [
    "df[\"type\"] = \"movie\""
   ]
  },
  {
   "cell_type": "code",
   "execution_count": 81,
   "metadata": {},
   "outputs": [],
   "source": [
    "df[\"long_movie\"] = df[\"duration\"] > 160"
   ]
  },
  {
   "cell_type": "code",
   "execution_count": null,
   "metadata": {},
   "outputs": [],
   "source": [
    "df.head()"
   ]
  },
  {
   "cell_type": "code",
   "execution_count": null,
   "metadata": {},
   "outputs": [],
   "source": [
    "df = df.drop(['type'], axis=1)\n",
    "df.head()"
   ]
  },
  {
   "cell_type": "markdown",
   "metadata": {},
   "source": [
    "## Valeurs manquantes"
   ]
  },
  {
   "cell_type": "code",
   "execution_count": null,
   "metadata": {},
   "outputs": [],
   "source": [
    "new_df = pd.read_csv('donnees/class-grades.csv')\n",
    "new_df.head(10)"
   ]
  },
  {
   "cell_type": "code",
   "execution_count": null,
   "metadata": {},
   "outputs": [],
   "source": [
    "new_df.info()"
   ]
  },
  {
   "cell_type": "code",
   "execution_count": null,
   "metadata": {},
   "outputs": [],
   "source": [
    "new_df = pd.read_csv('donnees/class-grades.csv', na_values=['?'])"
   ]
  },
  {
   "cell_type": "code",
   "execution_count": null,
   "metadata": {},
   "outputs": [],
   "source": [
    "new_df.info()"
   ]
  },
  {
   "cell_type": "code",
   "execution_count": null,
   "metadata": {},
   "outputs": [],
   "source": [
    "drop_df = new_df.dropna()\n",
    "drop_df.info()"
   ]
  },
  {
   "cell_type": "markdown",
   "metadata": {},
   "source": [
    "## Concaténation et jointure"
   ]
  },
  {
   "cell_type": "markdown",
   "metadata": {},
   "source": [
    "###  `concat()`"
   ]
  },
  {
   "cell_type": "code",
   "execution_count": null,
   "metadata": {},
   "outputs": [],
   "source": [
    "s1 = pd.Series(['apple', 'orange', 'banana'],\n",
    "               index=[1, 2, 4])\n",
    "s2 = pd.Series(['pineapple', 'wildberry', 'raspberry'],\n",
    "               index=[3, 2, 6])\n",
    "\n",
    "print(s1)\n",
    "print(s2)"
   ]
  },
  {
   "cell_type": "code",
   "execution_count": null,
   "metadata": {},
   "outputs": [],
   "source": [
    "pd.concat([s1, s2], axis=0)"
   ]
  },
  {
   "cell_type": "code",
   "execution_count": null,
   "metadata": {},
   "outputs": [],
   "source": [
    "pd.concat([s1, s2], axis=1)"
   ]
  },
  {
   "cell_type": "markdown",
   "metadata": {},
   "source": [
    "###  `merge()`"
   ]
  },
  {
   "cell_type": "code",
   "execution_count": 83,
   "metadata": {},
   "outputs": [],
   "source": [
    "meal = ['pizza', 'pasta', 'burger']\n",
    "prices = [11.8, 12.9, 15.60]\n",
    "calories = [870, 790, 950]\n",
    "\n",
    "prices = pd.DataFrame({'meal': meal, 'prices': prices})\n",
    "calories = pd.DataFrame(calories, index=meal, columns=['calories'])"
   ]
  },
  {
   "cell_type": "code",
   "execution_count": 87,
   "metadata": {},
   "outputs": [
    {
     "data": {
      "text/html": [
       "<div>\n",
       "<style scoped>\n",
       "    .dataframe tbody tr th:only-of-type {\n",
       "        vertical-align: middle;\n",
       "    }\n",
       "\n",
       "    .dataframe tbody tr th {\n",
       "        vertical-align: top;\n",
       "    }\n",
       "\n",
       "    .dataframe thead th {\n",
       "        text-align: right;\n",
       "    }\n",
       "</style>\n",
       "<table border=\"1\" class=\"dataframe\">\n",
       "  <thead>\n",
       "    <tr style=\"text-align: right;\">\n",
       "      <th></th>\n",
       "      <th>meal</th>\n",
       "      <th>prices</th>\n",
       "    </tr>\n",
       "  </thead>\n",
       "  <tbody>\n",
       "    <tr>\n",
       "      <td>0</td>\n",
       "      <td>pizza</td>\n",
       "      <td>11.8</td>\n",
       "    </tr>\n",
       "    <tr>\n",
       "      <td>1</td>\n",
       "      <td>pasta</td>\n",
       "      <td>12.9</td>\n",
       "    </tr>\n",
       "    <tr>\n",
       "      <td>2</td>\n",
       "      <td>burger</td>\n",
       "      <td>15.6</td>\n",
       "    </tr>\n",
       "  </tbody>\n",
       "</table>\n",
       "</div>"
      ],
      "text/plain": [
       "     meal  prices\n",
       "0   pizza    11.8\n",
       "1   pasta    12.9\n",
       "2  burger    15.6"
      ]
     },
     "execution_count": 87,
     "metadata": {},
     "output_type": "execute_result"
    }
   ],
   "source": [
    "prices"
   ]
  },
  {
   "cell_type": "code",
   "execution_count": 88,
   "metadata": {},
   "outputs": [
    {
     "data": {
      "text/html": [
       "<div>\n",
       "<style scoped>\n",
       "    .dataframe tbody tr th:only-of-type {\n",
       "        vertical-align: middle;\n",
       "    }\n",
       "\n",
       "    .dataframe tbody tr th {\n",
       "        vertical-align: top;\n",
       "    }\n",
       "\n",
       "    .dataframe thead th {\n",
       "        text-align: right;\n",
       "    }\n",
       "</style>\n",
       "<table border=\"1\" class=\"dataframe\">\n",
       "  <thead>\n",
       "    <tr style=\"text-align: right;\">\n",
       "      <th></th>\n",
       "      <th>calories</th>\n",
       "    </tr>\n",
       "  </thead>\n",
       "  <tbody>\n",
       "    <tr>\n",
       "      <td>pizza</td>\n",
       "      <td>870</td>\n",
       "    </tr>\n",
       "    <tr>\n",
       "      <td>pasta</td>\n",
       "      <td>790</td>\n",
       "    </tr>\n",
       "    <tr>\n",
       "      <td>burger</td>\n",
       "      <td>950</td>\n",
       "    </tr>\n",
       "  </tbody>\n",
       "</table>\n",
       "</div>"
      ],
      "text/plain": [
       "        calories\n",
       "pizza        870\n",
       "pasta        790\n",
       "burger       950"
      ]
     },
     "execution_count": 88,
     "metadata": {},
     "output_type": "execute_result"
    }
   ],
   "source": [
    "calories"
   ]
  },
  {
   "cell_type": "code",
   "execution_count": 90,
   "metadata": {},
   "outputs": [
    {
     "data": {
      "text/html": [
       "<div>\n",
       "<style scoped>\n",
       "    .dataframe tbody tr th:only-of-type {\n",
       "        vertical-align: middle;\n",
       "    }\n",
       "\n",
       "    .dataframe tbody tr th {\n",
       "        vertical-align: top;\n",
       "    }\n",
       "\n",
       "    .dataframe thead th {\n",
       "        text-align: right;\n",
       "    }\n",
       "</style>\n",
       "<table border=\"1\" class=\"dataframe\">\n",
       "  <thead>\n",
       "    <tr style=\"text-align: right;\">\n",
       "      <th></th>\n",
       "      <th>meal</th>\n",
       "      <th>prices</th>\n",
       "      <th>calories</th>\n",
       "    </tr>\n",
       "  </thead>\n",
       "  <tbody>\n",
       "    <tr>\n",
       "      <td>0</td>\n",
       "      <td>pizza</td>\n",
       "      <td>11.8</td>\n",
       "      <td>870</td>\n",
       "    </tr>\n",
       "    <tr>\n",
       "      <td>1</td>\n",
       "      <td>pasta</td>\n",
       "      <td>12.9</td>\n",
       "      <td>790</td>\n",
       "    </tr>\n",
       "    <tr>\n",
       "      <td>2</td>\n",
       "      <td>burger</td>\n",
       "      <td>15.6</td>\n",
       "      <td>950</td>\n",
       "    </tr>\n",
       "  </tbody>\n",
       "</table>\n",
       "</div>"
      ],
      "text/plain": [
       "     meal  prices  calories\n",
       "0   pizza    11.8       870\n",
       "1   pasta    12.9       790\n",
       "2  burger    15.6       950"
      ]
     },
     "execution_count": 90,
     "metadata": {},
     "output_type": "execute_result"
    }
   ],
   "source": [
    "prices.merge(calories, left_on='meal', right_index=True)"
   ]
  },
  {
   "cell_type": "code",
   "execution_count": null,
   "metadata": {},
   "outputs": [],
   "source": []
  }
 ],
 "metadata": {
  "kernelspec": {
   "display_name": "Python 3",
   "language": "python",
   "name": "python3"
  },
  "language_info": {
   "codemirror_mode": {
    "name": "ipython",
    "version": 3
   },
   "file_extension": ".py",
   "mimetype": "text/x-python",
   "name": "python",
   "nbconvert_exporter": "python",
   "pygments_lexer": "ipython3",
   "version": "3.7.4"
  }
 },
 "nbformat": 4,
 "nbformat_minor": 2
}
